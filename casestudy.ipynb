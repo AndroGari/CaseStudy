{
 "cells": [
  {
   "cell_type": "code",
   "execution_count": 1,
   "id": "67c5f9e1",
   "metadata": {
    "_cell_guid": "b1076dfc-b9ad-4769-8c92-a6c4dae69d19",
    "_uuid": "8f2839f25d086af736a60e9eeb907d3b93b6e0e5",
    "execution": {
     "iopub.execute_input": "2022-05-08T04:47:40.331762Z",
     "iopub.status.busy": "2022-05-08T04:47:40.331301Z",
     "iopub.status.idle": "2022-05-08T04:47:40.350956Z",
     "shell.execute_reply": "2022-05-08T04:47:40.349816Z"
    },
    "papermill": {
     "duration": 0.057291,
     "end_time": "2022-05-08T04:47:40.353739",
     "exception": false,
     "start_time": "2022-05-08T04:47:40.296448",
     "status": "completed"
    },
    "tags": []
   },
   "outputs": [
    {
     "name": "stdout",
     "output_type": "stream",
     "text": [
      "/kaggle/input/mcdonalds/mcdonalds.csv\n"
     ]
    }
   ],
   "source": [
    "import numpy as np # linear algebra\n",
    "import pandas as pd # data processing, CSV file I/O (e.g. pd.read_csv)\n",
    "\n",
    "import os\n",
    "for dirname, _, filenames in os.walk('/kaggle/input'):\n",
    "    for filename in filenames:\n",
    "        print(os.path.join(dirname, filename))"
   ]
  },
  {
   "cell_type": "code",
   "execution_count": 2,
   "id": "9e3ecca7",
   "metadata": {
    "execution": {
     "iopub.execute_input": "2022-05-08T04:47:40.421281Z",
     "iopub.status.busy": "2022-05-08T04:47:40.420658Z",
     "iopub.status.idle": "2022-05-08T04:47:42.182990Z",
     "shell.execute_reply": "2022-05-08T04:47:42.181966Z"
    },
    "papermill": {
     "duration": 1.798584,
     "end_time": "2022-05-08T04:47:42.185547",
     "exception": false,
     "start_time": "2022-05-08T04:47:40.386963",
     "status": "completed"
    },
    "tags": []
   },
   "outputs": [],
   "source": [
    "import matplotlib.pyplot as plt\n",
    "import seaborn as sns\n",
    "import datetime as dt\n",
    "\n",
    "\n",
    "import sklearn\n",
    "from sklearn.preprocessing import StandardScaler\n",
    "from sklearn.cluster import KMeans\n",
    "from sklearn.metrics import silhouette_score\n",
    "from scipy.cluster.hierarchy import linkage\n",
    "from scipy.cluster.hierarchy import dendrogram\n",
    "from scipy.cluster.hierarchy import cut_tree"
   ]
  },
  {
   "cell_type": "code",
   "execution_count": 3,
   "id": "00120eb2",
   "metadata": {
    "execution": {
     "iopub.execute_input": "2022-05-08T04:47:42.249953Z",
     "iopub.status.busy": "2022-05-08T04:47:42.249677Z",
     "iopub.status.idle": "2022-05-08T04:47:42.301352Z",
     "shell.execute_reply": "2022-05-08T04:47:42.300369Z"
    },
    "papermill": {
     "duration": 0.087522,
     "end_time": "2022-05-08T04:47:42.304446",
     "exception": false,
     "start_time": "2022-05-08T04:47:42.216924",
     "status": "completed"
    },
    "tags": []
   },
   "outputs": [
    {
     "data": {
      "text/html": [
       "<div>\n",
       "<style scoped>\n",
       "    .dataframe tbody tr th:only-of-type {\n",
       "        vertical-align: middle;\n",
       "    }\n",
       "\n",
       "    .dataframe tbody tr th {\n",
       "        vertical-align: top;\n",
       "    }\n",
       "\n",
       "    .dataframe thead th {\n",
       "        text-align: right;\n",
       "    }\n",
       "</style>\n",
       "<table border=\"1\" class=\"dataframe\">\n",
       "  <thead>\n",
       "    <tr style=\"text-align: right;\">\n",
       "      <th></th>\n",
       "      <th>yummy</th>\n",
       "      <th>convenient</th>\n",
       "      <th>spicy</th>\n",
       "      <th>fattening</th>\n",
       "      <th>greasy</th>\n",
       "      <th>fast</th>\n",
       "      <th>cheap</th>\n",
       "      <th>tasty</th>\n",
       "      <th>expensive</th>\n",
       "      <th>healthy</th>\n",
       "      <th>disgusting</th>\n",
       "      <th>Like</th>\n",
       "      <th>Age</th>\n",
       "      <th>VisitFrequency</th>\n",
       "      <th>Gender</th>\n",
       "    </tr>\n",
       "  </thead>\n",
       "  <tbody>\n",
       "    <tr>\n",
       "      <th>0</th>\n",
       "      <td>No</td>\n",
       "      <td>Yes</td>\n",
       "      <td>No</td>\n",
       "      <td>Yes</td>\n",
       "      <td>No</td>\n",
       "      <td>Yes</td>\n",
       "      <td>Yes</td>\n",
       "      <td>No</td>\n",
       "      <td>Yes</td>\n",
       "      <td>No</td>\n",
       "      <td>No</td>\n",
       "      <td>-3</td>\n",
       "      <td>61</td>\n",
       "      <td>Every three months</td>\n",
       "      <td>Female</td>\n",
       "    </tr>\n",
       "    <tr>\n",
       "      <th>1</th>\n",
       "      <td>Yes</td>\n",
       "      <td>Yes</td>\n",
       "      <td>No</td>\n",
       "      <td>Yes</td>\n",
       "      <td>Yes</td>\n",
       "      <td>Yes</td>\n",
       "      <td>Yes</td>\n",
       "      <td>Yes</td>\n",
       "      <td>Yes</td>\n",
       "      <td>No</td>\n",
       "      <td>No</td>\n",
       "      <td>+2</td>\n",
       "      <td>51</td>\n",
       "      <td>Every three months</td>\n",
       "      <td>Female</td>\n",
       "    </tr>\n",
       "    <tr>\n",
       "      <th>2</th>\n",
       "      <td>No</td>\n",
       "      <td>Yes</td>\n",
       "      <td>Yes</td>\n",
       "      <td>Yes</td>\n",
       "      <td>Yes</td>\n",
       "      <td>Yes</td>\n",
       "      <td>No</td>\n",
       "      <td>Yes</td>\n",
       "      <td>Yes</td>\n",
       "      <td>Yes</td>\n",
       "      <td>No</td>\n",
       "      <td>+1</td>\n",
       "      <td>62</td>\n",
       "      <td>Every three months</td>\n",
       "      <td>Female</td>\n",
       "    </tr>\n",
       "    <tr>\n",
       "      <th>3</th>\n",
       "      <td>Yes</td>\n",
       "      <td>Yes</td>\n",
       "      <td>No</td>\n",
       "      <td>Yes</td>\n",
       "      <td>Yes</td>\n",
       "      <td>Yes</td>\n",
       "      <td>Yes</td>\n",
       "      <td>Yes</td>\n",
       "      <td>No</td>\n",
       "      <td>No</td>\n",
       "      <td>Yes</td>\n",
       "      <td>+4</td>\n",
       "      <td>69</td>\n",
       "      <td>Once a week</td>\n",
       "      <td>Female</td>\n",
       "    </tr>\n",
       "    <tr>\n",
       "      <th>4</th>\n",
       "      <td>No</td>\n",
       "      <td>Yes</td>\n",
       "      <td>No</td>\n",
       "      <td>Yes</td>\n",
       "      <td>Yes</td>\n",
       "      <td>Yes</td>\n",
       "      <td>Yes</td>\n",
       "      <td>No</td>\n",
       "      <td>No</td>\n",
       "      <td>Yes</td>\n",
       "      <td>No</td>\n",
       "      <td>+2</td>\n",
       "      <td>49</td>\n",
       "      <td>Once a month</td>\n",
       "      <td>Male</td>\n",
       "    </tr>\n",
       "  </tbody>\n",
       "</table>\n",
       "</div>"
      ],
      "text/plain": [
       "  yummy convenient spicy fattening greasy fast cheap tasty expensive healthy  \\\n",
       "0    No        Yes    No       Yes     No  Yes   Yes    No       Yes      No   \n",
       "1   Yes        Yes    No       Yes    Yes  Yes   Yes   Yes       Yes      No   \n",
       "2    No        Yes   Yes       Yes    Yes  Yes    No   Yes       Yes     Yes   \n",
       "3   Yes        Yes    No       Yes    Yes  Yes   Yes   Yes        No      No   \n",
       "4    No        Yes    No       Yes    Yes  Yes   Yes    No        No     Yes   \n",
       "\n",
       "  disgusting Like  Age      VisitFrequency  Gender  \n",
       "0         No   -3   61  Every three months  Female  \n",
       "1         No   +2   51  Every three months  Female  \n",
       "2         No   +1   62  Every three months  Female  \n",
       "3        Yes   +4   69         Once a week  Female  \n",
       "4         No   +2   49        Once a month    Male  "
      ]
     },
     "execution_count": 3,
     "metadata": {},
     "output_type": "execute_result"
    }
   ],
   "source": [
    "df= pd.read_csv('/kaggle/input/mcdonalds/mcdonalds.csv')\n",
    "df.head()"
   ]
  },
  {
   "cell_type": "code",
   "execution_count": 4,
   "id": "1b34e536",
   "metadata": {
    "execution": {
     "iopub.execute_input": "2022-05-08T04:47:42.374653Z",
     "iopub.status.busy": "2022-05-08T04:47:42.374145Z",
     "iopub.status.idle": "2022-05-08T04:47:42.406016Z",
     "shell.execute_reply": "2022-05-08T04:47:42.404146Z"
    },
    "papermill": {
     "duration": 0.071936,
     "end_time": "2022-05-08T04:47:42.408553",
     "exception": false,
     "start_time": "2022-05-08T04:47:42.336617",
     "status": "completed"
    },
    "tags": []
   },
   "outputs": [
    {
     "name": "stdout",
     "output_type": "stream",
     "text": [
      "<class 'pandas.core.frame.DataFrame'>\n",
      "RangeIndex: 1453 entries, 0 to 1452\n",
      "Data columns (total 15 columns):\n",
      " #   Column          Non-Null Count  Dtype \n",
      "---  ------          --------------  ----- \n",
      " 0   yummy           1453 non-null   object\n",
      " 1   convenient      1453 non-null   object\n",
      " 2   spicy           1453 non-null   object\n",
      " 3   fattening       1453 non-null   object\n",
      " 4   greasy          1453 non-null   object\n",
      " 5   fast            1453 non-null   object\n",
      " 6   cheap           1453 non-null   object\n",
      " 7   tasty           1453 non-null   object\n",
      " 8   expensive       1453 non-null   object\n",
      " 9   healthy         1453 non-null   object\n",
      " 10  disgusting      1453 non-null   object\n",
      " 11  Like            1453 non-null   object\n",
      " 12  Age             1453 non-null   int64 \n",
      " 13  VisitFrequency  1453 non-null   object\n",
      " 14  Gender          1453 non-null   object\n",
      "dtypes: int64(1), object(14)\n",
      "memory usage: 170.4+ KB\n"
     ]
    }
   ],
   "source": [
    "df.info()"
   ]
  },
  {
   "cell_type": "code",
   "execution_count": 5,
   "id": "5950fda2",
   "metadata": {
    "execution": {
     "iopub.execute_input": "2022-05-08T04:47:42.478900Z",
     "iopub.status.busy": "2022-05-08T04:47:42.477886Z",
     "iopub.status.idle": "2022-05-08T04:47:42.513768Z",
     "shell.execute_reply": "2022-05-08T04:47:42.512880Z"
    },
    "papermill": {
     "duration": 0.074301,
     "end_time": "2022-05-08T04:47:42.515862",
     "exception": false,
     "start_time": "2022-05-08T04:47:42.441561",
     "status": "completed"
    },
    "tags": []
   },
   "outputs": [
    {
     "data": {
      "text/html": [
       "<div>\n",
       "<style scoped>\n",
       "    .dataframe tbody tr th:only-of-type {\n",
       "        vertical-align: middle;\n",
       "    }\n",
       "\n",
       "    .dataframe tbody tr th {\n",
       "        vertical-align: top;\n",
       "    }\n",
       "\n",
       "    .dataframe thead th {\n",
       "        text-align: right;\n",
       "    }\n",
       "</style>\n",
       "<table border=\"1\" class=\"dataframe\">\n",
       "  <thead>\n",
       "    <tr style=\"text-align: right;\">\n",
       "      <th></th>\n",
       "      <th>Age</th>\n",
       "      <th>yummy_No</th>\n",
       "      <th>yummy_Yes</th>\n",
       "      <th>convenient_No</th>\n",
       "      <th>convenient_Yes</th>\n",
       "      <th>spicy_No</th>\n",
       "      <th>spicy_Yes</th>\n",
       "      <th>fattening_No</th>\n",
       "      <th>fattening_Yes</th>\n",
       "      <th>greasy_No</th>\n",
       "      <th>...</th>\n",
       "      <th>Like_I hate it!-5</th>\n",
       "      <th>Like_I love it!+5</th>\n",
       "      <th>VisitFrequency_Every three months</th>\n",
       "      <th>VisitFrequency_More than once a week</th>\n",
       "      <th>VisitFrequency_Never</th>\n",
       "      <th>VisitFrequency_Once a month</th>\n",
       "      <th>VisitFrequency_Once a week</th>\n",
       "      <th>VisitFrequency_Once a year</th>\n",
       "      <th>Gender_Female</th>\n",
       "      <th>Gender_Male</th>\n",
       "    </tr>\n",
       "  </thead>\n",
       "  <tbody>\n",
       "    <tr>\n",
       "      <th>0</th>\n",
       "      <td>61</td>\n",
       "      <td>1</td>\n",
       "      <td>0</td>\n",
       "      <td>0</td>\n",
       "      <td>1</td>\n",
       "      <td>1</td>\n",
       "      <td>0</td>\n",
       "      <td>0</td>\n",
       "      <td>1</td>\n",
       "      <td>1</td>\n",
       "      <td>...</td>\n",
       "      <td>0</td>\n",
       "      <td>0</td>\n",
       "      <td>1</td>\n",
       "      <td>0</td>\n",
       "      <td>0</td>\n",
       "      <td>0</td>\n",
       "      <td>0</td>\n",
       "      <td>0</td>\n",
       "      <td>1</td>\n",
       "      <td>0</td>\n",
       "    </tr>\n",
       "    <tr>\n",
       "      <th>1</th>\n",
       "      <td>51</td>\n",
       "      <td>0</td>\n",
       "      <td>1</td>\n",
       "      <td>0</td>\n",
       "      <td>1</td>\n",
       "      <td>1</td>\n",
       "      <td>0</td>\n",
       "      <td>0</td>\n",
       "      <td>1</td>\n",
       "      <td>0</td>\n",
       "      <td>...</td>\n",
       "      <td>0</td>\n",
       "      <td>0</td>\n",
       "      <td>1</td>\n",
       "      <td>0</td>\n",
       "      <td>0</td>\n",
       "      <td>0</td>\n",
       "      <td>0</td>\n",
       "      <td>0</td>\n",
       "      <td>1</td>\n",
       "      <td>0</td>\n",
       "    </tr>\n",
       "    <tr>\n",
       "      <th>2</th>\n",
       "      <td>62</td>\n",
       "      <td>1</td>\n",
       "      <td>0</td>\n",
       "      <td>0</td>\n",
       "      <td>1</td>\n",
       "      <td>0</td>\n",
       "      <td>1</td>\n",
       "      <td>0</td>\n",
       "      <td>1</td>\n",
       "      <td>0</td>\n",
       "      <td>...</td>\n",
       "      <td>0</td>\n",
       "      <td>0</td>\n",
       "      <td>1</td>\n",
       "      <td>0</td>\n",
       "      <td>0</td>\n",
       "      <td>0</td>\n",
       "      <td>0</td>\n",
       "      <td>0</td>\n",
       "      <td>1</td>\n",
       "      <td>0</td>\n",
       "    </tr>\n",
       "    <tr>\n",
       "      <th>3</th>\n",
       "      <td>69</td>\n",
       "      <td>0</td>\n",
       "      <td>1</td>\n",
       "      <td>0</td>\n",
       "      <td>1</td>\n",
       "      <td>1</td>\n",
       "      <td>0</td>\n",
       "      <td>0</td>\n",
       "      <td>1</td>\n",
       "      <td>0</td>\n",
       "      <td>...</td>\n",
       "      <td>0</td>\n",
       "      <td>0</td>\n",
       "      <td>0</td>\n",
       "      <td>0</td>\n",
       "      <td>0</td>\n",
       "      <td>0</td>\n",
       "      <td>1</td>\n",
       "      <td>0</td>\n",
       "      <td>1</td>\n",
       "      <td>0</td>\n",
       "    </tr>\n",
       "    <tr>\n",
       "      <th>4</th>\n",
       "      <td>49</td>\n",
       "      <td>1</td>\n",
       "      <td>0</td>\n",
       "      <td>0</td>\n",
       "      <td>1</td>\n",
       "      <td>1</td>\n",
       "      <td>0</td>\n",
       "      <td>0</td>\n",
       "      <td>1</td>\n",
       "      <td>0</td>\n",
       "      <td>...</td>\n",
       "      <td>0</td>\n",
       "      <td>0</td>\n",
       "      <td>0</td>\n",
       "      <td>0</td>\n",
       "      <td>0</td>\n",
       "      <td>1</td>\n",
       "      <td>0</td>\n",
       "      <td>0</td>\n",
       "      <td>0</td>\n",
       "      <td>1</td>\n",
       "    </tr>\n",
       "  </tbody>\n",
       "</table>\n",
       "<p>5 rows × 42 columns</p>\n",
       "</div>"
      ],
      "text/plain": [
       "   Age  yummy_No  yummy_Yes  convenient_No  convenient_Yes  spicy_No  \\\n",
       "0   61         1          0              0               1         1   \n",
       "1   51         0          1              0               1         1   \n",
       "2   62         1          0              0               1         0   \n",
       "3   69         0          1              0               1         1   \n",
       "4   49         1          0              0               1         1   \n",
       "\n",
       "   spicy_Yes  fattening_No  fattening_Yes  greasy_No  ...  Like_I hate it!-5  \\\n",
       "0          0             0              1          1  ...                  0   \n",
       "1          0             0              1          0  ...                  0   \n",
       "2          1             0              1          0  ...                  0   \n",
       "3          0             0              1          0  ...                  0   \n",
       "4          0             0              1          0  ...                  0   \n",
       "\n",
       "   Like_I love it!+5  VisitFrequency_Every three months  \\\n",
       "0                  0                                  1   \n",
       "1                  0                                  1   \n",
       "2                  0                                  1   \n",
       "3                  0                                  0   \n",
       "4                  0                                  0   \n",
       "\n",
       "   VisitFrequency_More than once a week  VisitFrequency_Never  \\\n",
       "0                                     0                     0   \n",
       "1                                     0                     0   \n",
       "2                                     0                     0   \n",
       "3                                     0                     0   \n",
       "4                                     0                     0   \n",
       "\n",
       "   VisitFrequency_Once a month  VisitFrequency_Once a week  \\\n",
       "0                            0                           0   \n",
       "1                            0                           0   \n",
       "2                            0                           0   \n",
       "3                            0                           1   \n",
       "4                            1                           0   \n",
       "\n",
       "   VisitFrequency_Once a year  Gender_Female  Gender_Male  \n",
       "0                           0              1            0  \n",
       "1                           0              1            0  \n",
       "2                           0              1            0  \n",
       "3                           0              1            0  \n",
       "4                           0              0            1  \n",
       "\n",
       "[5 rows x 42 columns]"
      ]
     },
     "execution_count": 5,
     "metadata": {},
     "output_type": "execute_result"
    }
   ],
   "source": [
    "num_df=pd.get_dummies(df)\n",
    "num_df.head()"
   ]
  },
  {
   "cell_type": "code",
   "execution_count": 6,
   "id": "ea8f7610",
   "metadata": {
    "execution": {
     "iopub.execute_input": "2022-05-08T04:47:42.583738Z",
     "iopub.status.busy": "2022-05-08T04:47:42.583393Z",
     "iopub.status.idle": "2022-05-08T04:47:42.604071Z",
     "shell.execute_reply": "2022-05-08T04:47:42.603243Z"
    },
    "papermill": {
     "duration": 0.057061,
     "end_time": "2022-05-08T04:47:42.606153",
     "exception": false,
     "start_time": "2022-05-08T04:47:42.549092",
     "status": "completed"
    },
    "tags": []
   },
   "outputs": [
    {
     "data": {
      "text/html": [
       "<div>\n",
       "<style scoped>\n",
       "    .dataframe tbody tr th:only-of-type {\n",
       "        vertical-align: middle;\n",
       "    }\n",
       "\n",
       "    .dataframe tbody tr th {\n",
       "        vertical-align: top;\n",
       "    }\n",
       "\n",
       "    .dataframe thead th {\n",
       "        text-align: right;\n",
       "    }\n",
       "</style>\n",
       "<table border=\"1\" class=\"dataframe\">\n",
       "  <thead>\n",
       "    <tr style=\"text-align: right;\">\n",
       "      <th></th>\n",
       "      <th>Age</th>\n",
       "      <th>yummy_Yes</th>\n",
       "      <th>convenient_Yes</th>\n",
       "      <th>spicy_Yes</th>\n",
       "      <th>fattening_Yes</th>\n",
       "      <th>greasy_Yes</th>\n",
       "      <th>fast_Yes</th>\n",
       "      <th>cheap_Yes</th>\n",
       "      <th>tasty_Yes</th>\n",
       "      <th>expensive_Yes</th>\n",
       "      <th>healthy_Yes</th>\n",
       "      <th>disgusting_Yes</th>\n",
       "      <th>Gender_Female</th>\n",
       "      <th>Gender_Male</th>\n",
       "    </tr>\n",
       "  </thead>\n",
       "  <tbody>\n",
       "    <tr>\n",
       "      <th>0</th>\n",
       "      <td>61</td>\n",
       "      <td>0</td>\n",
       "      <td>1</td>\n",
       "      <td>0</td>\n",
       "      <td>1</td>\n",
       "      <td>0</td>\n",
       "      <td>1</td>\n",
       "      <td>1</td>\n",
       "      <td>0</td>\n",
       "      <td>1</td>\n",
       "      <td>0</td>\n",
       "      <td>0</td>\n",
       "      <td>1</td>\n",
       "      <td>0</td>\n",
       "    </tr>\n",
       "    <tr>\n",
       "      <th>1</th>\n",
       "      <td>51</td>\n",
       "      <td>1</td>\n",
       "      <td>1</td>\n",
       "      <td>0</td>\n",
       "      <td>1</td>\n",
       "      <td>1</td>\n",
       "      <td>1</td>\n",
       "      <td>1</td>\n",
       "      <td>1</td>\n",
       "      <td>1</td>\n",
       "      <td>0</td>\n",
       "      <td>0</td>\n",
       "      <td>1</td>\n",
       "      <td>0</td>\n",
       "    </tr>\n",
       "    <tr>\n",
       "      <th>2</th>\n",
       "      <td>62</td>\n",
       "      <td>0</td>\n",
       "      <td>1</td>\n",
       "      <td>1</td>\n",
       "      <td>1</td>\n",
       "      <td>1</td>\n",
       "      <td>1</td>\n",
       "      <td>0</td>\n",
       "      <td>1</td>\n",
       "      <td>1</td>\n",
       "      <td>1</td>\n",
       "      <td>0</td>\n",
       "      <td>1</td>\n",
       "      <td>0</td>\n",
       "    </tr>\n",
       "    <tr>\n",
       "      <th>3</th>\n",
       "      <td>69</td>\n",
       "      <td>1</td>\n",
       "      <td>1</td>\n",
       "      <td>0</td>\n",
       "      <td>1</td>\n",
       "      <td>1</td>\n",
       "      <td>1</td>\n",
       "      <td>1</td>\n",
       "      <td>1</td>\n",
       "      <td>0</td>\n",
       "      <td>0</td>\n",
       "      <td>1</td>\n",
       "      <td>1</td>\n",
       "      <td>0</td>\n",
       "    </tr>\n",
       "    <tr>\n",
       "      <th>4</th>\n",
       "      <td>49</td>\n",
       "      <td>0</td>\n",
       "      <td>1</td>\n",
       "      <td>0</td>\n",
       "      <td>1</td>\n",
       "      <td>1</td>\n",
       "      <td>1</td>\n",
       "      <td>1</td>\n",
       "      <td>0</td>\n",
       "      <td>0</td>\n",
       "      <td>1</td>\n",
       "      <td>0</td>\n",
       "      <td>0</td>\n",
       "      <td>1</td>\n",
       "    </tr>\n",
       "    <tr>\n",
       "      <th>...</th>\n",
       "      <td>...</td>\n",
       "      <td>...</td>\n",
       "      <td>...</td>\n",
       "      <td>...</td>\n",
       "      <td>...</td>\n",
       "      <td>...</td>\n",
       "      <td>...</td>\n",
       "      <td>...</td>\n",
       "      <td>...</td>\n",
       "      <td>...</td>\n",
       "      <td>...</td>\n",
       "      <td>...</td>\n",
       "      <td>...</td>\n",
       "      <td>...</td>\n",
       "    </tr>\n",
       "    <tr>\n",
       "      <th>1448</th>\n",
       "      <td>47</td>\n",
       "      <td>0</td>\n",
       "      <td>1</td>\n",
       "      <td>0</td>\n",
       "      <td>1</td>\n",
       "      <td>1</td>\n",
       "      <td>0</td>\n",
       "      <td>0</td>\n",
       "      <td>0</td>\n",
       "      <td>1</td>\n",
       "      <td>0</td>\n",
       "      <td>1</td>\n",
       "      <td>0</td>\n",
       "      <td>1</td>\n",
       "    </tr>\n",
       "    <tr>\n",
       "      <th>1449</th>\n",
       "      <td>36</td>\n",
       "      <td>1</td>\n",
       "      <td>1</td>\n",
       "      <td>0</td>\n",
       "      <td>1</td>\n",
       "      <td>0</td>\n",
       "      <td>0</td>\n",
       "      <td>1</td>\n",
       "      <td>1</td>\n",
       "      <td>0</td>\n",
       "      <td>1</td>\n",
       "      <td>0</td>\n",
       "      <td>1</td>\n",
       "      <td>0</td>\n",
       "    </tr>\n",
       "    <tr>\n",
       "      <th>1450</th>\n",
       "      <td>52</td>\n",
       "      <td>1</td>\n",
       "      <td>1</td>\n",
       "      <td>0</td>\n",
       "      <td>1</td>\n",
       "      <td>0</td>\n",
       "      <td>1</td>\n",
       "      <td>0</td>\n",
       "      <td>1</td>\n",
       "      <td>1</td>\n",
       "      <td>0</td>\n",
       "      <td>0</td>\n",
       "      <td>1</td>\n",
       "      <td>0</td>\n",
       "    </tr>\n",
       "    <tr>\n",
       "      <th>1451</th>\n",
       "      <td>41</td>\n",
       "      <td>1</td>\n",
       "      <td>1</td>\n",
       "      <td>0</td>\n",
       "      <td>0</td>\n",
       "      <td>0</td>\n",
       "      <td>1</td>\n",
       "      <td>1</td>\n",
       "      <td>1</td>\n",
       "      <td>0</td>\n",
       "      <td>1</td>\n",
       "      <td>0</td>\n",
       "      <td>0</td>\n",
       "      <td>1</td>\n",
       "    </tr>\n",
       "    <tr>\n",
       "      <th>1452</th>\n",
       "      <td>30</td>\n",
       "      <td>0</td>\n",
       "      <td>1</td>\n",
       "      <td>0</td>\n",
       "      <td>1</td>\n",
       "      <td>1</td>\n",
       "      <td>0</td>\n",
       "      <td>0</td>\n",
       "      <td>0</td>\n",
       "      <td>1</td>\n",
       "      <td>0</td>\n",
       "      <td>1</td>\n",
       "      <td>0</td>\n",
       "      <td>1</td>\n",
       "    </tr>\n",
       "  </tbody>\n",
       "</table>\n",
       "<p>1453 rows × 14 columns</p>\n",
       "</div>"
      ],
      "text/plain": [
       "      Age  yummy_Yes  convenient_Yes  spicy_Yes  fattening_Yes  greasy_Yes  \\\n",
       "0      61          0               1          0              1           0   \n",
       "1      51          1               1          0              1           1   \n",
       "2      62          0               1          1              1           1   \n",
       "3      69          1               1          0              1           1   \n",
       "4      49          0               1          0              1           1   \n",
       "...   ...        ...             ...        ...            ...         ...   \n",
       "1448   47          0               1          0              1           1   \n",
       "1449   36          1               1          0              1           0   \n",
       "1450   52          1               1          0              1           0   \n",
       "1451   41          1               1          0              0           0   \n",
       "1452   30          0               1          0              1           1   \n",
       "\n",
       "      fast_Yes  cheap_Yes  tasty_Yes  expensive_Yes  healthy_Yes  \\\n",
       "0            1          1          0              1            0   \n",
       "1            1          1          1              1            0   \n",
       "2            1          0          1              1            1   \n",
       "3            1          1          1              0            0   \n",
       "4            1          1          0              0            1   \n",
       "...        ...        ...        ...            ...          ...   \n",
       "1448         0          0          0              1            0   \n",
       "1449         0          1          1              0            1   \n",
       "1450         1          0          1              1            0   \n",
       "1451         1          1          1              0            1   \n",
       "1452         0          0          0              1            0   \n",
       "\n",
       "      disgusting_Yes  Gender_Female  Gender_Male  \n",
       "0                  0              1            0  \n",
       "1                  0              1            0  \n",
       "2                  0              1            0  \n",
       "3                  1              1            0  \n",
       "4                  0              0            1  \n",
       "...              ...            ...          ...  \n",
       "1448               1              0            1  \n",
       "1449               0              1            0  \n",
       "1450               0              1            0  \n",
       "1451               0              0            1  \n",
       "1452               1              0            1  \n",
       "\n",
       "[1453 rows x 14 columns]"
      ]
     },
     "execution_count": 6,
     "metadata": {},
     "output_type": "execute_result"
    }
   ],
   "source": [
    "spec_df=num_df.iloc[:,[0,2,4,6,8,10,12,14,16,18,20,22,40,41]]\n",
    "spec_df"
   ]
  },
  {
   "cell_type": "code",
   "execution_count": 7,
   "id": "9940c979",
   "metadata": {
    "execution": {
     "iopub.execute_input": "2022-05-08T04:47:42.678354Z",
     "iopub.status.busy": "2022-05-08T04:47:42.677932Z",
     "iopub.status.idle": "2022-05-08T04:47:42.685101Z",
     "shell.execute_reply": "2022-05-08T04:47:42.683628Z"
    },
    "papermill": {
     "duration": 0.044891,
     "end_time": "2022-05-08T04:47:42.687400",
     "exception": false,
     "start_time": "2022-05-08T04:47:42.642509",
     "status": "completed"
    },
    "tags": []
   },
   "outputs": [],
   "source": [
    "def func(i):\n",
    "  if str(i)=='Never':\n",
    "    return 0\n",
    "  elif str(i)=='Once a year':\n",
    "    return 1\n",
    "  elif str(i)=='Every three months':\n",
    "    return 2\n",
    "  elif str(i)=='Once a month':\n",
    "    return 3\n",
    "  elif str(i)=='Once a week':\n",
    "    return 4\n",
    "  elif str(i)=='More than once a week':\n",
    "    return 5"
   ]
  },
  {
   "cell_type": "code",
   "execution_count": 8,
   "id": "081a7318",
   "metadata": {
    "execution": {
     "iopub.execute_input": "2022-05-08T04:47:42.760870Z",
     "iopub.status.busy": "2022-05-08T04:47:42.760544Z",
     "iopub.status.idle": "2022-05-08T04:47:42.882416Z",
     "shell.execute_reply": "2022-05-08T04:47:42.881128Z"
    },
    "papermill": {
     "duration": 0.163108,
     "end_time": "2022-05-08T04:47:42.884884",
     "exception": false,
     "start_time": "2022-05-08T04:47:42.721776",
     "status": "completed"
    },
    "tags": []
   },
   "outputs": [
    {
     "data": {
      "text/html": [
       "<div>\n",
       "<style scoped>\n",
       "    .dataframe tbody tr th:only-of-type {\n",
       "        vertical-align: middle;\n",
       "    }\n",
       "\n",
       "    .dataframe tbody tr th {\n",
       "        vertical-align: top;\n",
       "    }\n",
       "\n",
       "    .dataframe thead th {\n",
       "        text-align: right;\n",
       "    }\n",
       "</style>\n",
       "<table border=\"1\" class=\"dataframe\">\n",
       "  <thead>\n",
       "    <tr style=\"text-align: right;\">\n",
       "      <th></th>\n",
       "      <th>yummy</th>\n",
       "      <th>convenient</th>\n",
       "      <th>spicy</th>\n",
       "      <th>fattening</th>\n",
       "      <th>greasy</th>\n",
       "      <th>fast</th>\n",
       "      <th>cheap</th>\n",
       "      <th>tasty</th>\n",
       "      <th>expensive</th>\n",
       "      <th>healthy</th>\n",
       "      <th>disgusting</th>\n",
       "      <th>Like</th>\n",
       "      <th>Age</th>\n",
       "      <th>Gender</th>\n",
       "    </tr>\n",
       "  </thead>\n",
       "  <tbody>\n",
       "    <tr>\n",
       "      <th>count</th>\n",
       "      <td>1453.000000</td>\n",
       "      <td>1453.000000</td>\n",
       "      <td>1453.000000</td>\n",
       "      <td>1453.000000</td>\n",
       "      <td>1453.000000</td>\n",
       "      <td>1453.000000</td>\n",
       "      <td>1453.000000</td>\n",
       "      <td>1453.000000</td>\n",
       "      <td>1453.000000</td>\n",
       "      <td>1453.000000</td>\n",
       "      <td>1453.000000</td>\n",
       "      <td>1453.000000</td>\n",
       "      <td>1453.000000</td>\n",
       "      <td>1453.000000</td>\n",
       "    </tr>\n",
       "    <tr>\n",
       "      <th>mean</th>\n",
       "      <td>0.552650</td>\n",
       "      <td>0.907777</td>\n",
       "      <td>0.093599</td>\n",
       "      <td>0.867171</td>\n",
       "      <td>0.526497</td>\n",
       "      <td>0.900206</td>\n",
       "      <td>0.598761</td>\n",
       "      <td>0.644184</td>\n",
       "      <td>0.357880</td>\n",
       "      <td>0.198899</td>\n",
       "      <td>0.242946</td>\n",
       "      <td>2.757743</td>\n",
       "      <td>44.604955</td>\n",
       "      <td>0.457674</td>\n",
       "    </tr>\n",
       "    <tr>\n",
       "      <th>std</th>\n",
       "      <td>0.497391</td>\n",
       "      <td>0.289440</td>\n",
       "      <td>0.291371</td>\n",
       "      <td>0.339506</td>\n",
       "      <td>0.499469</td>\n",
       "      <td>0.299828</td>\n",
       "      <td>0.490318</td>\n",
       "      <td>0.478925</td>\n",
       "      <td>0.479542</td>\n",
       "      <td>0.399309</td>\n",
       "      <td>0.429010</td>\n",
       "      <td>1.645749</td>\n",
       "      <td>14.221178</td>\n",
       "      <td>0.498377</td>\n",
       "    </tr>\n",
       "    <tr>\n",
       "      <th>min</th>\n",
       "      <td>0.000000</td>\n",
       "      <td>0.000000</td>\n",
       "      <td>0.000000</td>\n",
       "      <td>0.000000</td>\n",
       "      <td>0.000000</td>\n",
       "      <td>0.000000</td>\n",
       "      <td>0.000000</td>\n",
       "      <td>0.000000</td>\n",
       "      <td>0.000000</td>\n",
       "      <td>0.000000</td>\n",
       "      <td>0.000000</td>\n",
       "      <td>0.000000</td>\n",
       "      <td>18.000000</td>\n",
       "      <td>0.000000</td>\n",
       "    </tr>\n",
       "    <tr>\n",
       "      <th>25%</th>\n",
       "      <td>0.000000</td>\n",
       "      <td>1.000000</td>\n",
       "      <td>0.000000</td>\n",
       "      <td>1.000000</td>\n",
       "      <td>0.000000</td>\n",
       "      <td>1.000000</td>\n",
       "      <td>0.000000</td>\n",
       "      <td>0.000000</td>\n",
       "      <td>0.000000</td>\n",
       "      <td>0.000000</td>\n",
       "      <td>0.000000</td>\n",
       "      <td>1.000000</td>\n",
       "      <td>33.000000</td>\n",
       "      <td>0.000000</td>\n",
       "    </tr>\n",
       "    <tr>\n",
       "      <th>50%</th>\n",
       "      <td>1.000000</td>\n",
       "      <td>1.000000</td>\n",
       "      <td>0.000000</td>\n",
       "      <td>1.000000</td>\n",
       "      <td>1.000000</td>\n",
       "      <td>1.000000</td>\n",
       "      <td>1.000000</td>\n",
       "      <td>1.000000</td>\n",
       "      <td>0.000000</td>\n",
       "      <td>0.000000</td>\n",
       "      <td>0.000000</td>\n",
       "      <td>3.000000</td>\n",
       "      <td>45.000000</td>\n",
       "      <td>0.000000</td>\n",
       "    </tr>\n",
       "    <tr>\n",
       "      <th>75%</th>\n",
       "      <td>1.000000</td>\n",
       "      <td>1.000000</td>\n",
       "      <td>0.000000</td>\n",
       "      <td>1.000000</td>\n",
       "      <td>1.000000</td>\n",
       "      <td>1.000000</td>\n",
       "      <td>1.000000</td>\n",
       "      <td>1.000000</td>\n",
       "      <td>1.000000</td>\n",
       "      <td>0.000000</td>\n",
       "      <td>0.000000</td>\n",
       "      <td>4.000000</td>\n",
       "      <td>57.000000</td>\n",
       "      <td>1.000000</td>\n",
       "    </tr>\n",
       "    <tr>\n",
       "      <th>max</th>\n",
       "      <td>1.000000</td>\n",
       "      <td>1.000000</td>\n",
       "      <td>1.000000</td>\n",
       "      <td>1.000000</td>\n",
       "      <td>1.000000</td>\n",
       "      <td>1.000000</td>\n",
       "      <td>1.000000</td>\n",
       "      <td>1.000000</td>\n",
       "      <td>1.000000</td>\n",
       "      <td>1.000000</td>\n",
       "      <td>1.000000</td>\n",
       "      <td>5.000000</td>\n",
       "      <td>71.000000</td>\n",
       "      <td>1.000000</td>\n",
       "    </tr>\n",
       "  </tbody>\n",
       "</table>\n",
       "</div>"
      ],
      "text/plain": [
       "             yummy   convenient        spicy    fattening       greasy  \\\n",
       "count  1453.000000  1453.000000  1453.000000  1453.000000  1453.000000   \n",
       "mean      0.552650     0.907777     0.093599     0.867171     0.526497   \n",
       "std       0.497391     0.289440     0.291371     0.339506     0.499469   \n",
       "min       0.000000     0.000000     0.000000     0.000000     0.000000   \n",
       "25%       0.000000     1.000000     0.000000     1.000000     0.000000   \n",
       "50%       1.000000     1.000000     0.000000     1.000000     1.000000   \n",
       "75%       1.000000     1.000000     0.000000     1.000000     1.000000   \n",
       "max       1.000000     1.000000     1.000000     1.000000     1.000000   \n",
       "\n",
       "              fast        cheap        tasty    expensive      healthy  \\\n",
       "count  1453.000000  1453.000000  1453.000000  1453.000000  1453.000000   \n",
       "mean      0.900206     0.598761     0.644184     0.357880     0.198899   \n",
       "std       0.299828     0.490318     0.478925     0.479542     0.399309   \n",
       "min       0.000000     0.000000     0.000000     0.000000     0.000000   \n",
       "25%       1.000000     0.000000     0.000000     0.000000     0.000000   \n",
       "50%       1.000000     1.000000     1.000000     0.000000     0.000000   \n",
       "75%       1.000000     1.000000     1.000000     1.000000     0.000000   \n",
       "max       1.000000     1.000000     1.000000     1.000000     1.000000   \n",
       "\n",
       "        disgusting         Like          Age       Gender  \n",
       "count  1453.000000  1453.000000  1453.000000  1453.000000  \n",
       "mean      0.242946     2.757743    44.604955     0.457674  \n",
       "std       0.429010     1.645749    14.221178     0.498377  \n",
       "min       0.000000     0.000000    18.000000     0.000000  \n",
       "25%       0.000000     1.000000    33.000000     0.000000  \n",
       "50%       0.000000     3.000000    45.000000     0.000000  \n",
       "75%       0.000000     4.000000    57.000000     1.000000  \n",
       "max       1.000000     5.000000    71.000000     1.000000  "
      ]
     },
     "execution_count": 8,
     "metadata": {},
     "output_type": "execute_result"
    }
   ],
   "source": [
    "list = ['yummy',\t'convenient',\t'spicy',\t'fattening',\t'greasy',\t'fast',\t'cheap'\t, 'tasty'\t, 'expensive',\t'healthy' ,\t'disgusting']\n",
    "\n",
    "for i in list:\n",
    "  df[i] = df[i].apply(lambda x: 1 if x==\"Yes\" else 0)\n",
    "\n",
    "df['Like'] = df['Like'].apply(lambda x:x[-1] if x==\"I love it!+5\" or \"I hate it!-5\" else int(x))\n",
    "\n",
    "df['Like'] = df['Like'].apply(pd.to_numeric)\n",
    "\n",
    "df['Gender'] = df['Gender'].apply(lambda x:  1 if x==\"Male\" else 0)\n",
    "\n",
    "df.describe()"
   ]
  },
  {
   "cell_type": "code",
   "execution_count": 9,
   "id": "8cdcb971",
   "metadata": {
    "execution": {
     "iopub.execute_input": "2022-05-08T04:47:42.957335Z",
     "iopub.status.busy": "2022-05-08T04:47:42.957021Z",
     "iopub.status.idle": "2022-05-08T04:47:42.971684Z",
     "shell.execute_reply": "2022-05-08T04:47:42.970768Z"
    },
    "papermill": {
     "duration": 0.052696,
     "end_time": "2022-05-08T04:47:42.973809",
     "exception": false,
     "start_time": "2022-05-08T04:47:42.921113",
     "status": "completed"
    },
    "tags": []
   },
   "outputs": [
    {
     "data": {
      "text/plain": [
       "array([[0, 1, 0, ..., 0, 0, 0],\n",
       "       [1, 1, 0, ..., 0, 0, 0],\n",
       "       [0, 1, 1, ..., 1, 0, 0],\n",
       "       ...,\n",
       "       [1, 1, 0, ..., 0, 0, 0],\n",
       "       [1, 1, 0, ..., 1, 0, 1],\n",
       "       [0, 1, 0, ..., 0, 1, 1]])"
      ]
     },
     "execution_count": 9,
     "metadata": {},
     "output_type": "execute_result"
    }
   ],
   "source": [
    "list1 = ['yummy',\t'convenient',\t'spicy',\t'fattening',\t'greasy',\t'fast',\t'cheap'\t, 'tasty'\t, 'expensive',\t'healthy' ,\t'disgusting' , 'Gender']\n",
    "\n",
    "df['VisitFrequency'] = df['VisitFrequency'].astype(str)\n",
    "vfn = []\n",
    "\n",
    "for i in df['VisitFrequency']:\n",
    "  vfn.append(func(i))\n",
    "\n",
    "df['VisitFrequencynum'] = vfn\n",
    "\n",
    "x = df.loc[:,list1].values\n",
    "x"
   ]
  },
  {
   "cell_type": "code",
   "execution_count": 10,
   "id": "a26daab7",
   "metadata": {
    "execution": {
     "iopub.execute_input": "2022-05-08T04:47:43.048555Z",
     "iopub.status.busy": "2022-05-08T04:47:43.048245Z",
     "iopub.status.idle": "2022-05-08T04:47:43.090405Z",
     "shell.execute_reply": "2022-05-08T04:47:43.089342Z"
    },
    "papermill": {
     "duration": 0.08285,
     "end_time": "2022-05-08T04:47:43.093577",
     "exception": false,
     "start_time": "2022-05-08T04:47:43.010727",
     "status": "completed"
    },
    "tags": []
   },
   "outputs": [
    {
     "data": {
      "text/html": [
       "<div>\n",
       "<style scoped>\n",
       "    .dataframe tbody tr th:only-of-type {\n",
       "        vertical-align: middle;\n",
       "    }\n",
       "\n",
       "    .dataframe tbody tr th {\n",
       "        vertical-align: top;\n",
       "    }\n",
       "\n",
       "    .dataframe thead th {\n",
       "        text-align: right;\n",
       "    }\n",
       "</style>\n",
       "<table border=\"1\" class=\"dataframe\">\n",
       "  <thead>\n",
       "    <tr style=\"text-align: right;\">\n",
       "      <th></th>\n",
       "      <th>principal component 1</th>\n",
       "      <th>principal component 2</th>\n",
       "    </tr>\n",
       "  </thead>\n",
       "  <tbody>\n",
       "    <tr>\n",
       "      <th>0</th>\n",
       "      <td>0.360699</td>\n",
       "      <td>-0.314246</td>\n",
       "    </tr>\n",
       "    <tr>\n",
       "      <th>1</th>\n",
       "      <td>-0.271777</td>\n",
       "      <td>0.288933</td>\n",
       "    </tr>\n",
       "    <tr>\n",
       "      <th>2</th>\n",
       "      <td>0.326076</td>\n",
       "      <td>0.610969</td>\n",
       "    </tr>\n",
       "    <tr>\n",
       "      <th>3</th>\n",
       "      <td>-0.239314</td>\n",
       "      <td>-0.439775</td>\n",
       "    </tr>\n",
       "    <tr>\n",
       "      <th>4</th>\n",
       "      <td>0.241102</td>\n",
       "      <td>-0.693957</td>\n",
       "    </tr>\n",
       "    <tr>\n",
       "      <th>...</th>\n",
       "      <td>...</td>\n",
       "      <td>...</td>\n",
       "    </tr>\n",
       "    <tr>\n",
       "      <th>1448</th>\n",
       "      <td>1.612038</td>\n",
       "      <td>0.310770</td>\n",
       "    </tr>\n",
       "    <tr>\n",
       "      <th>1449</th>\n",
       "      <td>-1.008625</td>\n",
       "      <td>-0.034596</td>\n",
       "    </tr>\n",
       "    <tr>\n",
       "      <th>1450</th>\n",
       "      <td>-0.225918</td>\n",
       "      <td>0.958570</td>\n",
       "    </tr>\n",
       "    <tr>\n",
       "      <th>1451</th>\n",
       "      <td>-1.098240</td>\n",
       "      <td>0.133613</td>\n",
       "    </tr>\n",
       "    <tr>\n",
       "      <th>1452</th>\n",
       "      <td>1.612038</td>\n",
       "      <td>0.310770</td>\n",
       "    </tr>\n",
       "  </tbody>\n",
       "</table>\n",
       "<p>1453 rows × 2 columns</p>\n",
       "</div>"
      ],
      "text/plain": [
       "      principal component 1  principal component 2\n",
       "0                  0.360699              -0.314246\n",
       "1                 -0.271777               0.288933\n",
       "2                  0.326076               0.610969\n",
       "3                 -0.239314              -0.439775\n",
       "4                  0.241102              -0.693957\n",
       "...                     ...                    ...\n",
       "1448               1.612038               0.310770\n",
       "1449              -1.008625              -0.034596\n",
       "1450              -0.225918               0.958570\n",
       "1451              -1.098240               0.133613\n",
       "1452               1.612038               0.310770\n",
       "\n",
       "[1453 rows x 2 columns]"
      ]
     },
     "execution_count": 10,
     "metadata": {},
     "output_type": "execute_result"
    }
   ],
   "source": [
    "from sklearn.decomposition import PCA\n",
    "pca = PCA(n_components=2)\n",
    "pc = pca.fit_transform(x)\n",
    "pf = pd.DataFrame(data = pc\n",
    "             , columns = ['principal component 1', 'principal component 2'])\n",
    "\n",
    "pf"
   ]
  },
  {
   "cell_type": "code",
   "execution_count": 11,
   "id": "0eefbc14",
   "metadata": {
    "execution": {
     "iopub.execute_input": "2022-05-08T04:47:43.215321Z",
     "iopub.status.busy": "2022-05-08T04:47:43.214968Z",
     "iopub.status.idle": "2022-05-08T04:47:43.462124Z",
     "shell.execute_reply": "2022-05-08T04:47:43.460994Z"
    },
    "papermill": {
     "duration": 0.302243,
     "end_time": "2022-05-08T04:47:43.464594",
     "exception": false,
     "start_time": "2022-05-08T04:47:43.162351",
     "status": "completed"
    },
    "tags": []
   },
   "outputs": [
    {
     "data": {
      "text/plain": [
       "<matplotlib.collections.PathCollection at 0x7f845dbba6d0>"
      ]
     },
     "execution_count": 11,
     "metadata": {},
     "output_type": "execute_result"
    },
    {
     "data": {
      "image/png": "[encoded data removed]",
      "text/plain": [
       "<Figure size 576x576 with 1 Axes>"
      ]
     },
     "metadata": {
      "needs_background": "light"
     },
     "output_type": "display_data"
    }
   ],
   "source": [
    "fig = plt.figure(figsize = (8,8))\n",
    "ax = fig.add_subplot(1,1,1) \n",
    "ax.set_xlabel('Principal Component 1', fontsize = 15)\n",
    "ax.set_ylabel('Principal Component 2', fontsize = 15)\n",
    "ax.scatter(pf['principal component 1']\n",
    "               , pf['principal component 2'])"
   ]
  },
  {
   "cell_type": "code",
   "execution_count": 12,
   "id": "0758f2fc",
   "metadata": {
    "execution": {
     "iopub.execute_input": "2022-05-08T04:47:43.548123Z",
     "iopub.status.busy": "2022-05-08T04:47:43.547773Z",
     "iopub.status.idle": "2022-05-08T04:47:52.108392Z",
     "shell.execute_reply": "2022-05-08T04:47:52.107259Z"
    },
    "papermill": {
     "duration": 8.607322,
     "end_time": "2022-05-08T04:47:52.110866",
     "exception": false,
     "start_time": "2022-05-08T04:47:43.503544",
     "status": "completed"
    },
    "tags": []
   },
   "outputs": [
    {
     "data": {
      "text/plain": [
       "Text(0, 0.5, 'WCSS')"
      ]
     },
     "execution_count": 12,
     "metadata": {},
     "output_type": "execute_result"
    },
    {
     "data": {
      "image/png": "[encoded data removed]",
      "text/plain": [
       "<Figure size 432x288 with 1 Axes>"
      ]
     },
     "metadata": {
      "needs_background": "light"
     },
     "output_type": "display_data"
    }
   ],
   "source": [
    "from sklearn.cluster import KMeans\n",
    "wcss=[]\n",
    "for i in range(1,8):\n",
    " kmeans = KMeans(i)\n",
    " kmeans.fit(x)\n",
    " wcss_iter = kmeans.inertia_\n",
    " wcss.append(wcss_iter)\n",
    "\n",
    "number_clusters = range(1,8)\n",
    "plt.plot(number_clusters,wcss)\n",
    "plt.title('elbow')\n",
    "plt.xlabel('Number of clusters')\n",
    "plt.ylabel('WCSS')"
   ]
  },
  {
   "cell_type": "code",
   "execution_count": 13,
   "id": "13b6f272",
   "metadata": {
    "execution": {
     "iopub.execute_input": "2022-05-08T04:47:52.193165Z",
     "iopub.status.busy": "2022-05-08T04:47:52.192299Z",
     "iopub.status.idle": "2022-05-08T04:47:53.499721Z",
     "shell.execute_reply": "2022-05-08T04:47:53.499070Z"
    },
    "papermill": {
     "duration": 1.351027,
     "end_time": "2022-05-08T04:47:53.502334",
     "exception": false,
     "start_time": "2022-05-08T04:47:52.151307",
     "status": "completed"
    },
    "tags": []
   },
   "outputs": [
    {
     "data": {
      "text/plain": [
       "KMeans(n_clusters=4)"
      ]
     },
     "execution_count": 13,
     "metadata": {},
     "output_type": "execute_result"
    }
   ],
   "source": [
    "kmeans = KMeans(4)\n",
    "kmeans.fit(x)"
   ]
  },
  {
   "cell_type": "code",
   "execution_count": 14,
   "id": "70847c55",
   "metadata": {
    "execution": {
     "iopub.execute_input": "2022-05-08T04:47:53.586630Z",
     "iopub.status.busy": "2022-05-08T04:47:53.585975Z",
     "iopub.status.idle": "2022-05-08T04:47:53.599904Z",
     "shell.execute_reply": "2022-05-08T04:47:53.598878Z"
    },
    "papermill": {
     "duration": 0.059559,
     "end_time": "2022-05-08T04:47:53.604215",
     "exception": false,
     "start_time": "2022-05-08T04:47:53.544656",
     "status": "completed"
    },
    "tags": []
   },
   "outputs": [
    {
     "name": "stdout",
     "output_type": "stream",
     "text": [
      "[1 0 0 2 1 2 0 2 3 0 1 0 1 0 3 2 2 0 3 0 0 0 0 0 2 0 2 1 1 2 2 2 2 1 2 1 2\n",
      " 1 1 3 0 2 2 2 1 0 2 0 2 2 3 1 0 3 2 1 1 1 2 2 0 2 2 3 2 3 3 0 2 2 1 2 0 1\n",
      " 2 3 2 3 0 2 3 1 1 2 3 2 0 0 0 0 2 2 3 1 2 0 1 1 3 2]\n"
     ]
    }
   ],
   "source": [
    "kmeansp = kmeans.predict(x)\n",
    "\n",
    "labels = kmeans.labels_\n",
    "print(labels[:100])"
   ]
  },
  {
   "cell_type": "code",
   "execution_count": 15,
   "id": "756a946a",
   "metadata": {
    "execution": {
     "iopub.execute_input": "2022-05-08T04:47:53.688524Z",
     "iopub.status.busy": "2022-05-08T04:47:53.688127Z",
     "iopub.status.idle": "2022-05-08T04:47:53.706421Z",
     "shell.execute_reply": "2022-05-08T04:47:53.705296Z"
    },
    "papermill": {
     "duration": 0.061613,
     "end_time": "2022-05-08T04:47:53.708788",
     "exception": false,
     "start_time": "2022-05-08T04:47:53.647175",
     "status": "completed"
    },
    "tags": []
   },
   "outputs": [
    {
     "data": {
      "text/html": [
       "<div>\n",
       "<style scoped>\n",
       "    .dataframe tbody tr th:only-of-type {\n",
       "        vertical-align: middle;\n",
       "    }\n",
       "\n",
       "    .dataframe tbody tr th {\n",
       "        vertical-align: top;\n",
       "    }\n",
       "\n",
       "    .dataframe thead th {\n",
       "        text-align: right;\n",
       "    }\n",
       "</style>\n",
       "<table border=\"1\" class=\"dataframe\">\n",
       "  <thead>\n",
       "    <tr style=\"text-align: right;\">\n",
       "      <th></th>\n",
       "      <th>yummy</th>\n",
       "      <th>convenient</th>\n",
       "      <th>spicy</th>\n",
       "      <th>fattening</th>\n",
       "      <th>greasy</th>\n",
       "      <th>fast</th>\n",
       "      <th>cheap</th>\n",
       "      <th>tasty</th>\n",
       "      <th>expensive</th>\n",
       "      <th>healthy</th>\n",
       "      <th>disgusting</th>\n",
       "      <th>Like</th>\n",
       "      <th>Age</th>\n",
       "      <th>VisitFrequency</th>\n",
       "      <th>Gender</th>\n",
       "      <th>VisitFrequencynum</th>\n",
       "      <th>cluster_num</th>\n",
       "    </tr>\n",
       "  </thead>\n",
       "  <tbody>\n",
       "    <tr>\n",
       "      <th>0</th>\n",
       "      <td>0</td>\n",
       "      <td>1</td>\n",
       "      <td>0</td>\n",
       "      <td>1</td>\n",
       "      <td>0</td>\n",
       "      <td>1</td>\n",
       "      <td>1</td>\n",
       "      <td>0</td>\n",
       "      <td>1</td>\n",
       "      <td>0</td>\n",
       "      <td>0</td>\n",
       "      <td>3</td>\n",
       "      <td>61</td>\n",
       "      <td>Every three months</td>\n",
       "      <td>0</td>\n",
       "      <td>2</td>\n",
       "      <td>1</td>\n",
       "    </tr>\n",
       "    <tr>\n",
       "      <th>1</th>\n",
       "      <td>1</td>\n",
       "      <td>1</td>\n",
       "      <td>0</td>\n",
       "      <td>1</td>\n",
       "      <td>1</td>\n",
       "      <td>1</td>\n",
       "      <td>1</td>\n",
       "      <td>1</td>\n",
       "      <td>1</td>\n",
       "      <td>0</td>\n",
       "      <td>0</td>\n",
       "      <td>2</td>\n",
       "      <td>51</td>\n",
       "      <td>Every three months</td>\n",
       "      <td>0</td>\n",
       "      <td>2</td>\n",
       "      <td>0</td>\n",
       "    </tr>\n",
       "    <tr>\n",
       "      <th>2</th>\n",
       "      <td>0</td>\n",
       "      <td>1</td>\n",
       "      <td>1</td>\n",
       "      <td>1</td>\n",
       "      <td>1</td>\n",
       "      <td>1</td>\n",
       "      <td>0</td>\n",
       "      <td>1</td>\n",
       "      <td>1</td>\n",
       "      <td>1</td>\n",
       "      <td>0</td>\n",
       "      <td>1</td>\n",
       "      <td>62</td>\n",
       "      <td>Every three months</td>\n",
       "      <td>0</td>\n",
       "      <td>2</td>\n",
       "      <td>0</td>\n",
       "    </tr>\n",
       "    <tr>\n",
       "      <th>3</th>\n",
       "      <td>1</td>\n",
       "      <td>1</td>\n",
       "      <td>0</td>\n",
       "      <td>1</td>\n",
       "      <td>1</td>\n",
       "      <td>1</td>\n",
       "      <td>1</td>\n",
       "      <td>1</td>\n",
       "      <td>0</td>\n",
       "      <td>0</td>\n",
       "      <td>1</td>\n",
       "      <td>4</td>\n",
       "      <td>69</td>\n",
       "      <td>Once a week</td>\n",
       "      <td>0</td>\n",
       "      <td>4</td>\n",
       "      <td>2</td>\n",
       "    </tr>\n",
       "    <tr>\n",
       "      <th>4</th>\n",
       "      <td>0</td>\n",
       "      <td>1</td>\n",
       "      <td>0</td>\n",
       "      <td>1</td>\n",
       "      <td>1</td>\n",
       "      <td>1</td>\n",
       "      <td>1</td>\n",
       "      <td>0</td>\n",
       "      <td>0</td>\n",
       "      <td>1</td>\n",
       "      <td>0</td>\n",
       "      <td>2</td>\n",
       "      <td>49</td>\n",
       "      <td>Once a month</td>\n",
       "      <td>1</td>\n",
       "      <td>3</td>\n",
       "      <td>1</td>\n",
       "    </tr>\n",
       "  </tbody>\n",
       "</table>\n",
       "</div>"
      ],
      "text/plain": [
       "   yummy  convenient  spicy  fattening  greasy  fast  cheap  tasty  expensive  \\\n",
       "0      0           1      0          1       0     1      1      0          1   \n",
       "1      1           1      0          1       1     1      1      1          1   \n",
       "2      0           1      1          1       1     1      0      1          1   \n",
       "3      1           1      0          1       1     1      1      1          0   \n",
       "4      0           1      0          1       1     1      1      0          0   \n",
       "\n",
       "   healthy  disgusting  Like  Age      VisitFrequency  Gender  \\\n",
       "0        0           0     3   61  Every three months       0   \n",
       "1        0           0     2   51  Every three months       0   \n",
       "2        1           0     1   62  Every three months       0   \n",
       "3        0           1     4   69         Once a week       0   \n",
       "4        1           0     2   49        Once a month       1   \n",
       "\n",
       "   VisitFrequencynum  cluster_num  \n",
       "0                  2            1  \n",
       "1                  2            0  \n",
       "2                  2            0  \n",
       "3                  4            2  \n",
       "4                  3            1  "
      ]
     },
     "execution_count": 15,
     "metadata": {},
     "output_type": "execute_result"
    }
   ],
   "source": [
    "df['cluster_num'] = labels\n",
    "df.head()"
   ]
  },
  {
   "cell_type": "code",
   "execution_count": 16,
   "id": "65f922e1",
   "metadata": {
    "execution": {
     "iopub.execute_input": "2022-05-08T04:47:53.793951Z",
     "iopub.status.busy": "2022-05-08T04:47:53.793606Z",
     "iopub.status.idle": "2022-05-08T04:47:54.007062Z",
     "shell.execute_reply": "2022-05-08T04:47:54.006296Z"
    },
    "papermill": {
     "duration": 0.259602,
     "end_time": "2022-05-08T04:47:54.009256",
     "exception": false,
     "start_time": "2022-05-08T04:47:53.749654",
     "status": "completed"
    },
    "tags": []
   },
   "outputs": [
    {
     "data": {
      "text/plain": [
       "<matplotlib.collections.PathCollection at 0x7f845c22f790>"
      ]
     },
     "execution_count": 16,
     "metadata": {},
     "output_type": "execute_result"
    },
    {
     "data": {
      "image/png": "[encoded data removed]",
      "text/plain": [
       "<Figure size 432x288 with 1 Axes>"
      ]
     },
     "metadata": {
      "needs_background": "light"
     },
     "output_type": "display_data"
    }
   ],
   "source": [
    "plt.scatter(pf['principal component 1'], pf['principal component 2'], c=kmeansp, s=25, cmap='inferno')"
   ]
  },
  {
   "cell_type": "code",
   "execution_count": 17,
   "id": "55285e5b",
   "metadata": {
    "execution": {
     "iopub.execute_input": "2022-05-08T04:47:54.098553Z",
     "iopub.status.busy": "2022-05-08T04:47:54.097944Z",
     "iopub.status.idle": "2022-05-08T04:47:57.592874Z",
     "shell.execute_reply": "2022-05-08T04:47:57.592177Z"
    },
    "papermill": {
     "duration": 3.542472,
     "end_time": "2022-05-08T04:47:57.595116",
     "exception": false,
     "start_time": "2022-05-08T04:47:54.052644",
     "status": "completed"
    },
    "tags": []
   },
   "outputs": [
    {
     "data": {
      "image/png": "[encoded data removed]",
      "text/plain": [
       "<Figure size 432x288 with 3 Axes>"
      ]
     },
     "metadata": {
      "needs_background": "light"
     },
     "output_type": "display_data"
    },
    {
     "data": {
      "image/png": "[encoded data removed]",
      "text/plain": [
       "<Figure size 432x288 with 3 Axes>"
      ]
     },
     "metadata": {
      "needs_background": "light"
     },
     "output_type": "display_data"
    },
    {
     "data": {
      "image/png": "[encoded data removed]",
      "text/plain": [
       "<Figure size 432x288 with 3 Axes>"
      ]
     },
     "metadata": {
      "needs_background": "light"
     },
     "output_type": "display_data"
    },
    {
     "data": {
      "image/png": "[encoded data removed]",
      "text/plain": [
       "<Figure size 432x288 with 3 Axes>"
      ]
     },
     "metadata": {
      "needs_background": "light"
     },
     "output_type": "display_data"
    },
    {
     "data": {
      "image/png": "[encoded data removed]",
      "text/plain": [
       "<Figure size 432x288 with 3 Axes>"
      ]
     },
     "metadata": {
      "needs_background": "light"
     },
     "output_type": "display_data"
    },
    {
     "data": {
      "image/png": "[encoded data removed]",
      "text/plain": [
       "<Figure size 432x288 with 3 Axes>"
      ]
     },
     "metadata": {
      "needs_background": "light"
     },
     "output_type": "display_data"
    },
    {
     "data": {
      "image/png": "[encoded data removed]",
      "text/plain": [
       "<Figure size 432x288 with 3 Axes>"
      ]
     },
     "metadata": {
      "needs_background": "light"
     },
     "output_type": "display_data"
    },
    {
     "data": {
      "image/png": "[encoded data removed]",
      "text/plain": [
       "<Figure size 432x288 with 3 Axes>"
      ]
     },
     "metadata": {
      "needs_background": "light"
     },
     "output_type": "display_data"
    },
    {
     "data": {
      "image/png": "[encoded data removed]",
      "text/plain": [
       "<Figure size 432x288 with 3 Axes>"
      ]
     },
     "metadata": {
      "needs_background": "light"
     },
     "output_type": "display_data"
    },
    {
     "data": {
      "image/png": "[encoded data removed]",
      "text/plain": [
       "<Figure size 432x288 with 3 Axes>"
      ]
     },
     "metadata": {
      "needs_background": "light"
     },
     "output_type": "display_data"
    },
    {
     "data": {
      "image/png": "[encoded data removed]",
      "text/plain": [
       "<Figure size 432x288 with 3 Axes>"
      ]
     },
     "metadata": {
      "needs_background": "light"
     },
     "output_type": "display_data"
    },
    {
     "data": {
      "image/png": "[encoded data removed]",
      "text/plain": [
       "<Figure size 432x288 with 3 Axes>"
      ]
     },
     "metadata": {
      "needs_background": "light"
     },
     "output_type": "display_data"
    }
   ],
   "source": [
    "from statsmodels.graphics.mosaicplot import mosaic\n",
    "from itertools import product\n",
    "\n",
    "\n",
    "for i in list1:\n",
    "  mosaic(df,[i , 'Like'],title = i)\n",
    "  plt.show()"
   ]
  },
  {
   "cell_type": "code",
   "execution_count": 18,
   "id": "327f3347",
   "metadata": {
    "execution": {
     "iopub.execute_input": "2022-05-08T04:47:57.706186Z",
     "iopub.status.busy": "2022-05-08T04:47:57.705537Z",
     "iopub.status.idle": "2022-05-08T04:47:57.733173Z",
     "shell.execute_reply": "2022-05-08T04:47:57.732059Z"
    },
    "papermill": {
     "duration": 0.085752,
     "end_time": "2022-05-08T04:47:57.735493",
     "exception": false,
     "start_time": "2022-05-08T04:47:57.649741",
     "status": "completed"
    },
    "tags": []
   },
   "outputs": [
    {
     "data": {
      "text/html": [
       "<div>\n",
       "<style scoped>\n",
       "    .dataframe tbody tr th:only-of-type {\n",
       "        vertical-align: middle;\n",
       "    }\n",
       "\n",
       "    .dataframe tbody tr th {\n",
       "        vertical-align: top;\n",
       "    }\n",
       "\n",
       "    .dataframe thead th {\n",
       "        text-align: right;\n",
       "    }\n",
       "</style>\n",
       "<table border=\"1\" class=\"dataframe\">\n",
       "  <thead>\n",
       "    <tr style=\"text-align: right;\">\n",
       "      <th></th>\n",
       "      <th>yummy</th>\n",
       "      <th>convenient</th>\n",
       "      <th>spicy</th>\n",
       "      <th>fattening</th>\n",
       "      <th>greasy</th>\n",
       "      <th>fast</th>\n",
       "      <th>cheap</th>\n",
       "      <th>tasty</th>\n",
       "      <th>expensive</th>\n",
       "      <th>healthy</th>\n",
       "      <th>disgusting</th>\n",
       "      <th>Like</th>\n",
       "      <th>Age</th>\n",
       "      <th>Gender</th>\n",
       "      <th>VisitFrequencynum</th>\n",
       "    </tr>\n",
       "    <tr>\n",
       "      <th>cluster_num</th>\n",
       "      <th></th>\n",
       "      <th></th>\n",
       "      <th></th>\n",
       "      <th></th>\n",
       "      <th></th>\n",
       "      <th></th>\n",
       "      <th></th>\n",
       "      <th></th>\n",
       "      <th></th>\n",
       "      <th></th>\n",
       "      <th></th>\n",
       "      <th></th>\n",
       "      <th></th>\n",
       "      <th></th>\n",
       "      <th></th>\n",
       "    </tr>\n",
       "  </thead>\n",
       "  <tbody>\n",
       "    <tr>\n",
       "      <th>0</th>\n",
       "      <td>0.887500</td>\n",
       "      <td>0.965625</td>\n",
       "      <td>0.131250</td>\n",
       "      <td>0.903125</td>\n",
       "      <td>0.575000</td>\n",
       "      <td>0.856250</td>\n",
       "      <td>0.112500</td>\n",
       "      <td>0.928125</td>\n",
       "      <td>0.906250</td>\n",
       "      <td>0.203125</td>\n",
       "      <td>0.109375</td>\n",
       "      <td>2.653125</td>\n",
       "      <td>40.231250</td>\n",
       "      <td>0.550000</td>\n",
       "      <td>2.850000</td>\n",
       "    </tr>\n",
       "    <tr>\n",
       "      <th>1</th>\n",
       "      <td>0.023684</td>\n",
       "      <td>0.907895</td>\n",
       "      <td>0.086842</td>\n",
       "      <td>0.910526</td>\n",
       "      <td>0.586842</td>\n",
       "      <td>0.947368</td>\n",
       "      <td>0.876316</td>\n",
       "      <td>0.300000</td>\n",
       "      <td>0.013158</td>\n",
       "      <td>0.076316</td>\n",
       "      <td>0.321053</td>\n",
       "      <td>2.242105</td>\n",
       "      <td>49.400000</td>\n",
       "      <td>0.405263</td>\n",
       "      <td>1.710526</td>\n",
       "    </tr>\n",
       "    <tr>\n",
       "      <th>2</th>\n",
       "      <td>0.980583</td>\n",
       "      <td>0.980583</td>\n",
       "      <td>0.083495</td>\n",
       "      <td>0.786408</td>\n",
       "      <td>0.363107</td>\n",
       "      <td>0.961165</td>\n",
       "      <td>0.939806</td>\n",
       "      <td>0.978641</td>\n",
       "      <td>0.013592</td>\n",
       "      <td>0.349515</td>\n",
       "      <td>0.046602</td>\n",
       "      <td>3.044660</td>\n",
       "      <td>42.469903</td>\n",
       "      <td>0.374757</td>\n",
       "      <td>3.021359</td>\n",
       "    </tr>\n",
       "    <tr>\n",
       "      <th>3</th>\n",
       "      <td>0.021008</td>\n",
       "      <td>0.672269</td>\n",
       "      <td>0.075630</td>\n",
       "      <td>0.924370</td>\n",
       "      <td>0.718487</td>\n",
       "      <td>0.752101</td>\n",
       "      <td>0.071429</td>\n",
       "      <td>0.088235</td>\n",
       "      <td>0.915966</td>\n",
       "      <td>0.063025</td>\n",
       "      <td>0.722689</td>\n",
       "      <td>3.100840</td>\n",
       "      <td>47.449580</td>\n",
       "      <td>0.596639</td>\n",
       "      <td>1.449580</td>\n",
       "    </tr>\n",
       "  </tbody>\n",
       "</table>\n",
       "</div>"
      ],
      "text/plain": [
       "                yummy  convenient     spicy  fattening    greasy      fast  \\\n",
       "cluster_num                                                                  \n",
       "0            0.887500    0.965625  0.131250   0.903125  0.575000  0.856250   \n",
       "1            0.023684    0.907895  0.086842   0.910526  0.586842  0.947368   \n",
       "2            0.980583    0.980583  0.083495   0.786408  0.363107  0.961165   \n",
       "3            0.021008    0.672269  0.075630   0.924370  0.718487  0.752101   \n",
       "\n",
       "                cheap     tasty  expensive   healthy  disgusting      Like  \\\n",
       "cluster_num                                                                  \n",
       "0            0.112500  0.928125   0.906250  0.203125    0.109375  2.653125   \n",
       "1            0.876316  0.300000   0.013158  0.076316    0.321053  2.242105   \n",
       "2            0.939806  0.978641   0.013592  0.349515    0.046602  3.044660   \n",
       "3            0.071429  0.088235   0.915966  0.063025    0.722689  3.100840   \n",
       "\n",
       "                   Age    Gender  VisitFrequencynum  \n",
       "cluster_num                                          \n",
       "0            40.231250  0.550000           2.850000  \n",
       "1            49.400000  0.405263           1.710526  \n",
       "2            42.469903  0.374757           3.021359  \n",
       "3            47.449580  0.596639           1.449580  "
      ]
     },
     "execution_count": 18,
     "metadata": {},
     "output_type": "execute_result"
    }
   ],
   "source": [
    "m2  = df.groupby(df['cluster_num'])\n",
    "m2.mean()"
   ]
  },
  {
   "cell_type": "code",
   "execution_count": 19,
   "id": "5f31a89b",
   "metadata": {
    "execution": {
     "iopub.execute_input": "2022-05-08T04:47:57.848579Z",
     "iopub.status.busy": "2022-05-08T04:47:57.847696Z",
     "iopub.status.idle": "2022-05-08T04:47:57.876420Z",
     "shell.execute_reply": "2022-05-08T04:47:57.875586Z"
    },
    "papermill": {
     "duration": 0.089645,
     "end_time": "2022-05-08T04:47:57.879175",
     "exception": false,
     "start_time": "2022-05-08T04:47:57.789530",
     "status": "completed"
    },
    "tags": []
   },
   "outputs": [
    {
     "data": {
      "text/html": [
       "<div>\n",
       "<style scoped>\n",
       "    .dataframe tbody tr th:only-of-type {\n",
       "        vertical-align: middle;\n",
       "    }\n",
       "\n",
       "    .dataframe tbody tr th {\n",
       "        vertical-align: top;\n",
       "    }\n",
       "\n",
       "    .dataframe thead th {\n",
       "        text-align: right;\n",
       "    }\n",
       "</style>\n",
       "<table border=\"1\" class=\"dataframe\">\n",
       "  <thead>\n",
       "    <tr style=\"text-align: right;\">\n",
       "      <th></th>\n",
       "      <th>yummy</th>\n",
       "      <th>convenient</th>\n",
       "      <th>spicy</th>\n",
       "      <th>fattening</th>\n",
       "      <th>greasy</th>\n",
       "      <th>fast</th>\n",
       "      <th>cheap</th>\n",
       "      <th>tasty</th>\n",
       "      <th>expensive</th>\n",
       "      <th>healthy</th>\n",
       "      <th>disgusting</th>\n",
       "      <th>Like</th>\n",
       "      <th>Age</th>\n",
       "      <th>VisitFrequency</th>\n",
       "      <th>Gender</th>\n",
       "      <th>VisitFrequencynum</th>\n",
       "    </tr>\n",
       "    <tr>\n",
       "      <th>cluster_num</th>\n",
       "      <th></th>\n",
       "      <th></th>\n",
       "      <th></th>\n",
       "      <th></th>\n",
       "      <th></th>\n",
       "      <th></th>\n",
       "      <th></th>\n",
       "      <th></th>\n",
       "      <th></th>\n",
       "      <th></th>\n",
       "      <th></th>\n",
       "      <th></th>\n",
       "      <th></th>\n",
       "      <th></th>\n",
       "      <th></th>\n",
       "      <th></th>\n",
       "    </tr>\n",
       "  </thead>\n",
       "  <tbody>\n",
       "    <tr>\n",
       "      <th>0</th>\n",
       "      <td>1</td>\n",
       "      <td>1</td>\n",
       "      <td>1</td>\n",
       "      <td>1</td>\n",
       "      <td>1</td>\n",
       "      <td>1</td>\n",
       "      <td>1</td>\n",
       "      <td>1</td>\n",
       "      <td>1</td>\n",
       "      <td>1</td>\n",
       "      <td>1</td>\n",
       "      <td>5</td>\n",
       "      <td>70</td>\n",
       "      <td>Once a year</td>\n",
       "      <td>1</td>\n",
       "      <td>5</td>\n",
       "    </tr>\n",
       "    <tr>\n",
       "      <th>1</th>\n",
       "      <td>1</td>\n",
       "      <td>1</td>\n",
       "      <td>1</td>\n",
       "      <td>1</td>\n",
       "      <td>1</td>\n",
       "      <td>1</td>\n",
       "      <td>1</td>\n",
       "      <td>1</td>\n",
       "      <td>1</td>\n",
       "      <td>1</td>\n",
       "      <td>1</td>\n",
       "      <td>5</td>\n",
       "      <td>70</td>\n",
       "      <td>Once a year</td>\n",
       "      <td>1</td>\n",
       "      <td>5</td>\n",
       "    </tr>\n",
       "    <tr>\n",
       "      <th>2</th>\n",
       "      <td>1</td>\n",
       "      <td>1</td>\n",
       "      <td>1</td>\n",
       "      <td>1</td>\n",
       "      <td>1</td>\n",
       "      <td>1</td>\n",
       "      <td>1</td>\n",
       "      <td>1</td>\n",
       "      <td>1</td>\n",
       "      <td>1</td>\n",
       "      <td>1</td>\n",
       "      <td>5</td>\n",
       "      <td>71</td>\n",
       "      <td>Once a year</td>\n",
       "      <td>1</td>\n",
       "      <td>5</td>\n",
       "    </tr>\n",
       "    <tr>\n",
       "      <th>3</th>\n",
       "      <td>1</td>\n",
       "      <td>1</td>\n",
       "      <td>1</td>\n",
       "      <td>1</td>\n",
       "      <td>1</td>\n",
       "      <td>1</td>\n",
       "      <td>1</td>\n",
       "      <td>1</td>\n",
       "      <td>1</td>\n",
       "      <td>1</td>\n",
       "      <td>1</td>\n",
       "      <td>5</td>\n",
       "      <td>70</td>\n",
       "      <td>Once a year</td>\n",
       "      <td>1</td>\n",
       "      <td>5</td>\n",
       "    </tr>\n",
       "  </tbody>\n",
       "</table>\n",
       "</div>"
      ],
      "text/plain": [
       "             yummy  convenient  spicy  fattening  greasy  fast  cheap  tasty  \\\n",
       "cluster_num                                                                    \n",
       "0                1           1      1          1       1     1      1      1   \n",
       "1                1           1      1          1       1     1      1      1   \n",
       "2                1           1      1          1       1     1      1      1   \n",
       "3                1           1      1          1       1     1      1      1   \n",
       "\n",
       "             expensive  healthy  disgusting  Like  Age VisitFrequency  Gender  \\\n",
       "cluster_num                                                                     \n",
       "0                    1        1           1     5   70    Once a year       1   \n",
       "1                    1        1           1     5   70    Once a year       1   \n",
       "2                    1        1           1     5   71    Once a year       1   \n",
       "3                    1        1           1     5   70    Once a year       1   \n",
       "\n",
       "             VisitFrequencynum  \n",
       "cluster_num                     \n",
       "0                            5  \n",
       "1                            5  \n",
       "2                            5  \n",
       "3                            5  "
      ]
     },
     "execution_count": 19,
     "metadata": {},
     "output_type": "execute_result"
    }
   ],
   "source": [
    "m2.max()"
   ]
  },
  {
   "cell_type": "code",
   "execution_count": 20,
   "id": "7fbae53f",
   "metadata": {
    "execution": {
     "iopub.execute_input": "2022-05-08T04:47:57.992580Z",
     "iopub.status.busy": "2022-05-08T04:47:57.991936Z",
     "iopub.status.idle": "2022-05-08T04:47:58.009210Z",
     "shell.execute_reply": "2022-05-08T04:47:58.008458Z"
    },
    "papermill": {
     "duration": 0.076155,
     "end_time": "2022-05-08T04:47:58.011385",
     "exception": false,
     "start_time": "2022-05-08T04:47:57.935230",
     "status": "completed"
    },
    "tags": []
   },
   "outputs": [
    {
     "data": {
      "text/html": [
       "<div>\n",
       "<style scoped>\n",
       "    .dataframe tbody tr th:only-of-type {\n",
       "        vertical-align: middle;\n",
       "    }\n",
       "\n",
       "    .dataframe tbody tr th {\n",
       "        vertical-align: top;\n",
       "    }\n",
       "\n",
       "    .dataframe thead th {\n",
       "        text-align: right;\n",
       "    }\n",
       "</style>\n",
       "<table border=\"1\" class=\"dataframe\">\n",
       "  <thead>\n",
       "    <tr style=\"text-align: right;\">\n",
       "      <th></th>\n",
       "      <th>yummy</th>\n",
       "      <th>convenient</th>\n",
       "      <th>spicy</th>\n",
       "      <th>fattening</th>\n",
       "      <th>greasy</th>\n",
       "      <th>fast</th>\n",
       "      <th>cheap</th>\n",
       "      <th>tasty</th>\n",
       "      <th>expensive</th>\n",
       "      <th>healthy</th>\n",
       "      <th>disgusting</th>\n",
       "      <th>Like</th>\n",
       "      <th>Age</th>\n",
       "      <th>VisitFrequency</th>\n",
       "      <th>Gender</th>\n",
       "      <th>VisitFrequencynum</th>\n",
       "    </tr>\n",
       "    <tr>\n",
       "      <th>cluster_num</th>\n",
       "      <th></th>\n",
       "      <th></th>\n",
       "      <th></th>\n",
       "      <th></th>\n",
       "      <th></th>\n",
       "      <th></th>\n",
       "      <th></th>\n",
       "      <th></th>\n",
       "      <th></th>\n",
       "      <th></th>\n",
       "      <th></th>\n",
       "      <th></th>\n",
       "      <th></th>\n",
       "      <th></th>\n",
       "      <th></th>\n",
       "      <th></th>\n",
       "    </tr>\n",
       "  </thead>\n",
       "  <tbody>\n",
       "    <tr>\n",
       "      <th>0</th>\n",
       "      <td>0</td>\n",
       "      <td>0</td>\n",
       "      <td>0</td>\n",
       "      <td>0</td>\n",
       "      <td>0</td>\n",
       "      <td>0</td>\n",
       "      <td>0</td>\n",
       "      <td>0</td>\n",
       "      <td>0</td>\n",
       "      <td>0</td>\n",
       "      <td>0</td>\n",
       "      <td>0</td>\n",
       "      <td>18</td>\n",
       "      <td>Every three months</td>\n",
       "      <td>0</td>\n",
       "      <td>0</td>\n",
       "    </tr>\n",
       "    <tr>\n",
       "      <th>1</th>\n",
       "      <td>0</td>\n",
       "      <td>0</td>\n",
       "      <td>0</td>\n",
       "      <td>0</td>\n",
       "      <td>0</td>\n",
       "      <td>0</td>\n",
       "      <td>0</td>\n",
       "      <td>0</td>\n",
       "      <td>0</td>\n",
       "      <td>0</td>\n",
       "      <td>0</td>\n",
       "      <td>0</td>\n",
       "      <td>18</td>\n",
       "      <td>Every three months</td>\n",
       "      <td>0</td>\n",
       "      <td>0</td>\n",
       "    </tr>\n",
       "    <tr>\n",
       "      <th>2</th>\n",
       "      <td>0</td>\n",
       "      <td>0</td>\n",
       "      <td>0</td>\n",
       "      <td>0</td>\n",
       "      <td>0</td>\n",
       "      <td>0</td>\n",
       "      <td>0</td>\n",
       "      <td>0</td>\n",
       "      <td>0</td>\n",
       "      <td>0</td>\n",
       "      <td>0</td>\n",
       "      <td>0</td>\n",
       "      <td>18</td>\n",
       "      <td>Every three months</td>\n",
       "      <td>0</td>\n",
       "      <td>0</td>\n",
       "    </tr>\n",
       "    <tr>\n",
       "      <th>3</th>\n",
       "      <td>0</td>\n",
       "      <td>0</td>\n",
       "      <td>0</td>\n",
       "      <td>0</td>\n",
       "      <td>0</td>\n",
       "      <td>0</td>\n",
       "      <td>0</td>\n",
       "      <td>0</td>\n",
       "      <td>0</td>\n",
       "      <td>0</td>\n",
       "      <td>0</td>\n",
       "      <td>0</td>\n",
       "      <td>18</td>\n",
       "      <td>Every three months</td>\n",
       "      <td>0</td>\n",
       "      <td>0</td>\n",
       "    </tr>\n",
       "  </tbody>\n",
       "</table>\n",
       "</div>"
      ],
      "text/plain": [
       "             yummy  convenient  spicy  fattening  greasy  fast  cheap  tasty  \\\n",
       "cluster_num                                                                    \n",
       "0                0           0      0          0       0     0      0      0   \n",
       "1                0           0      0          0       0     0      0      0   \n",
       "2                0           0      0          0       0     0      0      0   \n",
       "3                0           0      0          0       0     0      0      0   \n",
       "\n",
       "             expensive  healthy  disgusting  Like  Age      VisitFrequency  \\\n",
       "cluster_num                                                                  \n",
       "0                    0        0           0     0   18  Every three months   \n",
       "1                    0        0           0     0   18  Every three months   \n",
       "2                    0        0           0     0   18  Every three months   \n",
       "3                    0        0           0     0   18  Every three months   \n",
       "\n",
       "             Gender  VisitFrequencynum  \n",
       "cluster_num                             \n",
       "0                 0                  0  \n",
       "1                 0                  0  \n",
       "2                 0                  0  \n",
       "3                 0                  0  "
      ]
     },
     "execution_count": 20,
     "metadata": {},
     "output_type": "execute_result"
    }
   ],
   "source": [
    "m2.min()"
   ]
  },
  {
   "cell_type": "code",
   "execution_count": 21,
   "id": "ad5812ac",
   "metadata": {
    "execution": {
     "iopub.execute_input": "2022-05-08T04:47:58.123760Z",
     "iopub.status.busy": "2022-05-08T04:47:58.122937Z",
     "iopub.status.idle": "2022-05-08T04:47:59.624428Z",
     "shell.execute_reply": "2022-05-08T04:47:59.623536Z"
    },
    "papermill": {
     "duration": 1.561006,
     "end_time": "2022-05-08T04:47:59.626929",
     "exception": false,
     "start_time": "2022-05-08T04:47:58.065923",
     "status": "completed"
    },
    "tags": []
   },
   "outputs": [
    {
     "data": {
      "text/plain": [
       "0         AxesSubplot(0.1,0.559091;0.363636x0.340909)\n",
       "1    AxesSubplot(0.536364,0.559091;0.363636x0.340909)\n",
       "2             AxesSubplot(0.1,0.15;0.363636x0.340909)\n",
       "3        AxesSubplot(0.536364,0.15;0.363636x0.340909)\n",
       "dtype: object"
      ]
     },
     "execution_count": 21,
     "metadata": {},
     "output_type": "execute_result"
    },
    {
     "data": {
      "text/plain": [
       "<Figure size 576x576 with 0 Axes>"
      ]
     },
     "metadata": {},
     "output_type": "display_data"
    },
    {
     "data": {
      "image/png": "[encoded data removed]",
      "text/plain": [
       "<Figure size 432x288 with 4 Axes>"
      ]
     },
     "metadata": {
      "needs_background": "light"
     },
     "output_type": "display_data"
    }
   ],
   "source": [
    "plt.figure(figsize=(8,8))\n",
    "m2.boxplot()"
   ]
  },
  {
   "cell_type": "code",
   "execution_count": 22,
   "id": "b5cc2b48",
   "metadata": {
    "execution": {
     "iopub.execute_input": "2022-05-08T04:47:59.743992Z",
     "iopub.status.busy": "2022-05-08T04:47:59.743673Z",
     "iopub.status.idle": "2022-05-08T04:48:01.682741Z",
     "shell.execute_reply": "2022-05-08T04:48:01.682087Z"
    },
    "papermill": {
     "duration": 2.000428,
     "end_time": "2022-05-08T04:48:01.684795",
     "exception": false,
     "start_time": "2022-05-08T04:47:59.684367",
     "status": "completed"
    },
    "tags": []
   },
   "outputs": [
    {
     "data": {
      "text/plain": [
       "cluster_num\n",
       "0    AxesSubplot(0.125,0.125;0.775x0.755)\n",
       "1    AxesSubplot(0.125,0.125;0.775x0.755)\n",
       "2    AxesSubplot(0.125,0.125;0.775x0.755)\n",
       "3    AxesSubplot(0.125,0.125;0.775x0.755)\n",
       "dtype: object"
      ]
     },
     "execution_count": 22,
     "metadata": {},
     "output_type": "execute_result"
    },
    {
     "data": {
      "image/png": "[encoded data removed]",
      "text/plain": [
       "<Figure size 432x288 with 1 Axes>"
      ]
     },
     "metadata": {
      "needs_background": "light"
     },
     "output_type": "display_data"
    },
    {
     "data": {
      "image/png": "[encoded data removed]",
      "text/plain": [
       "<Figure size 432x288 with 1 Axes>"
      ]
     },
     "metadata": {
      "needs_background": "light"
     },
     "output_type": "display_data"
    },
    {
     "data": {
      "image/png": "[encoded data removed]",
      "text/plain": [
       "<Figure size 432x288 with 1 Axes>"
      ]
     },
     "metadata": {
      "needs_background": "light"
     },
     "output_type": "display_data"
    },
    {
     "data": {
      "image/png": "[encoded data removed]",
      "text/plain": [
       "<Figure size 432x288 with 1 Axes>"
      ]
     },
     "metadata": {
      "needs_background": "light"
     },
     "output_type": "display_data"
    }
   ],
   "source": [
    "m2.plot()"
   ]
  },
  {
   "cell_type": "code",
   "execution_count": 23,
   "id": "12e95577",
   "metadata": {
    "execution": {
     "iopub.execute_input": "2022-05-08T04:48:01.827846Z",
     "iopub.status.busy": "2022-05-08T04:48:01.827549Z",
     "iopub.status.idle": "2022-05-08T04:48:09.157737Z",
     "shell.execute_reply": "2022-05-08T04:48:09.156714Z"
    },
    "papermill": {
     "duration": 7.401765,
     "end_time": "2022-05-08T04:48:09.160274",
     "exception": false,
     "start_time": "2022-05-08T04:48:01.758509",
     "status": "completed"
    },
    "tags": []
   },
   "outputs": [
    {
     "data": {
      "text/plain": [
       "cluster_num\n",
       "0    [[AxesSubplot(0.125,0.725918;0.158163x0.154082...\n",
       "1    [[AxesSubplot(0.125,0.725918;0.158163x0.154082...\n",
       "2    [[AxesSubplot(0.125,0.725918;0.158163x0.154082...\n",
       "3    [[AxesSubplot(0.125,0.725918;0.158163x0.154082...\n",
       "dtype: object"
      ]
     },
     "execution_count": 23,
     "metadata": {},
     "output_type": "execute_result"
    },
    {
     "data": {
      "image/png": "[encoded data removed]",
      "text/plain": [
       "<Figure size 432x288 with 16 Axes>"
      ]
     },
     "metadata": {
      "needs_background": "light"
     },
     "output_type": "display_data"
    },
    {
     "data": {
      "image/png": "[encoded data removed]",
      "text/plain": [
       "<Figure size 432x288 with 16 Axes>"
      ]
     },
     "metadata": {
      "needs_background": "light"
     },
     "output_type": "display_data"
    },
    {
     "data": {
      "image/png": "[encoded data removed]",
      "text/plain": [
       "<Figure size 432x288 with 16 Axes>"
      ]
     },
     "metadata": {
      "needs_background": "light"
     },
     "output_type": "display_data"
    },
    {
     "data": {
      "image/png": "[encoded data removed]",
      "text/plain": [
       "<Figure size 432x288 with 16 Axes>"
      ]
     },
     "metadata": {
      "needs_background": "light"
     },
     "output_type": "display_data"
    }
   ],
   "source": [
    "m2.hist()"
   ]
  },
  {
   "cell_type": "code",
   "execution_count": 24,
   "id": "2d480670",
   "metadata": {
    "execution": {
     "iopub.execute_input": "2022-05-08T04:48:09.306830Z",
     "iopub.status.busy": "2022-05-08T04:48:09.306253Z",
     "iopub.status.idle": "2022-05-08T04:48:09.314191Z",
     "shell.execute_reply": "2022-05-08T04:48:09.313248Z"
    },
    "papermill": {
     "duration": 0.08183,
     "end_time": "2022-05-08T04:48:09.316363",
     "exception": false,
     "start_time": "2022-05-08T04:48:09.234533",
     "status": "completed"
    },
    "tags": []
   },
   "outputs": [
    {
     "data": {
      "text/plain": [
       "cluster_num\n",
       "0    2.653125\n",
       "1    2.242105\n",
       "2    3.044660\n",
       "3    3.100840\n",
       "Name: Like, dtype: float64"
      ]
     },
     "execution_count": 24,
     "metadata": {},
     "output_type": "execute_result"
    }
   ],
   "source": [
    "m2.Like.mean()"
   ]
  },
  {
   "cell_type": "code",
   "execution_count": 25,
   "id": "2e5dc05b",
   "metadata": {
    "execution": {
     "iopub.execute_input": "2022-05-08T04:48:09.458986Z",
     "iopub.status.busy": "2022-05-08T04:48:09.458421Z",
     "iopub.status.idle": "2022-05-08T04:48:09.465963Z",
     "shell.execute_reply": "2022-05-08T04:48:09.465196Z"
    },
    "papermill": {
     "duration": 0.08202,
     "end_time": "2022-05-08T04:48:09.468418",
     "exception": false,
     "start_time": "2022-05-08T04:48:09.386398",
     "status": "completed"
    },
    "tags": []
   },
   "outputs": [
    {
     "data": {
      "text/plain": [
       "cluster_num\n",
       "0    2.850000\n",
       "1    1.710526\n",
       "2    3.021359\n",
       "3    1.449580\n",
       "Name: VisitFrequencynum, dtype: float64"
      ]
     },
     "execution_count": 25,
     "metadata": {},
     "output_type": "execute_result"
    }
   ],
   "source": [
    "m2.VisitFrequencynum.mean()"
   ]
  },
  {
   "cell_type": "code",
   "execution_count": 26,
   "id": "958966fb",
   "metadata": {
    "execution": {
     "iopub.execute_input": "2022-05-08T04:48:09.614893Z",
     "iopub.status.busy": "2022-05-08T04:48:09.614314Z",
     "iopub.status.idle": "2022-05-08T04:48:09.833723Z",
     "shell.execute_reply": "2022-05-08T04:48:09.833023Z"
    },
    "papermill": {
     "duration": 0.294087,
     "end_time": "2022-05-08T04:48:09.836036",
     "exception": false,
     "start_time": "2022-05-08T04:48:09.541949",
     "status": "completed"
    },
    "tags": []
   },
   "outputs": [
    {
     "data": {
      "text/plain": [
       "<matplotlib.collections.PathCollection at 0x7f84540f0e50>"
      ]
     },
     "execution_count": 26,
     "metadata": {},
     "output_type": "execute_result"
    },
    {
     "data": {
      "image/png": "[encoded data removed]",
      "text/plain": [
       "<Figure size 432x288 with 1 Axes>"
      ]
     },
     "metadata": {
      "needs_background": "light"
     },
     "output_type": "display_data"
    }
   ],
   "source": [
    "plt.scatter(m2.VisitFrequencynum.mean(),m2.Like.mean())"
   ]
  },
  {
   "cell_type": "code",
   "execution_count": 27,
   "id": "e4de7727",
   "metadata": {
    "execution": {
     "iopub.execute_input": "2022-05-08T04:48:09.988196Z",
     "iopub.status.busy": "2022-05-08T04:48:09.987637Z",
     "iopub.status.idle": "2022-05-08T04:48:10.007948Z",
     "shell.execute_reply": "2022-05-08T04:48:10.007198Z"
    },
    "papermill": {
     "duration": 0.096829,
     "end_time": "2022-05-08T04:48:10.010027",
     "exception": false,
     "start_time": "2022-05-08T04:48:09.913198",
     "status": "completed"
    },
    "tags": []
   },
   "outputs": [
    {
     "data": {
      "text/html": [
       "<div>\n",
       "<style scoped>\n",
       "    .dataframe tbody tr th:only-of-type {\n",
       "        vertical-align: middle;\n",
       "    }\n",
       "\n",
       "    .dataframe tbody tr th {\n",
       "        vertical-align: top;\n",
       "    }\n",
       "\n",
       "    .dataframe thead th {\n",
       "        text-align: right;\n",
       "    }\n",
       "</style>\n",
       "<table border=\"1\" class=\"dataframe\">\n",
       "  <thead>\n",
       "    <tr style=\"text-align: right;\">\n",
       "      <th></th>\n",
       "      <th>yummy</th>\n",
       "      <th>convenient</th>\n",
       "      <th>spicy</th>\n",
       "      <th>fattening</th>\n",
       "      <th>greasy</th>\n",
       "      <th>fast</th>\n",
       "      <th>cheap</th>\n",
       "      <th>tasty</th>\n",
       "      <th>expensive</th>\n",
       "      <th>healthy</th>\n",
       "      <th>disgusting</th>\n",
       "      <th>Like</th>\n",
       "      <th>Age</th>\n",
       "      <th>VisitFrequency</th>\n",
       "      <th>Gender</th>\n",
       "      <th>VisitFrequencynum</th>\n",
       "      <th>cluster_num</th>\n",
       "    </tr>\n",
       "  </thead>\n",
       "  <tbody>\n",
       "    <tr>\n",
       "      <th>3</th>\n",
       "      <td>1</td>\n",
       "      <td>1</td>\n",
       "      <td>0</td>\n",
       "      <td>1</td>\n",
       "      <td>1</td>\n",
       "      <td>1</td>\n",
       "      <td>1</td>\n",
       "      <td>1</td>\n",
       "      <td>0</td>\n",
       "      <td>0</td>\n",
       "      <td>1</td>\n",
       "      <td>4</td>\n",
       "      <td>69</td>\n",
       "      <td>Once a week</td>\n",
       "      <td>0</td>\n",
       "      <td>4</td>\n",
       "      <td>2</td>\n",
       "    </tr>\n",
       "    <tr>\n",
       "      <th>5</th>\n",
       "      <td>1</td>\n",
       "      <td>1</td>\n",
       "      <td>0</td>\n",
       "      <td>1</td>\n",
       "      <td>0</td>\n",
       "      <td>1</td>\n",
       "      <td>1</td>\n",
       "      <td>1</td>\n",
       "      <td>0</td>\n",
       "      <td>0</td>\n",
       "      <td>0</td>\n",
       "      <td>2</td>\n",
       "      <td>55</td>\n",
       "      <td>Every three months</td>\n",
       "      <td>1</td>\n",
       "      <td>2</td>\n",
       "      <td>2</td>\n",
       "    </tr>\n",
       "    <tr>\n",
       "      <th>7</th>\n",
       "      <td>1</td>\n",
       "      <td>1</td>\n",
       "      <td>0</td>\n",
       "      <td>1</td>\n",
       "      <td>1</td>\n",
       "      <td>1</td>\n",
       "      <td>1</td>\n",
       "      <td>1</td>\n",
       "      <td>0</td>\n",
       "      <td>0</td>\n",
       "      <td>0</td>\n",
       "      <td>5</td>\n",
       "      <td>23</td>\n",
       "      <td>Once a week</td>\n",
       "      <td>0</td>\n",
       "      <td>4</td>\n",
       "      <td>2</td>\n",
       "    </tr>\n",
       "    <tr>\n",
       "      <th>15</th>\n",
       "      <td>1</td>\n",
       "      <td>1</td>\n",
       "      <td>0</td>\n",
       "      <td>1</td>\n",
       "      <td>0</td>\n",
       "      <td>1</td>\n",
       "      <td>1</td>\n",
       "      <td>1</td>\n",
       "      <td>0</td>\n",
       "      <td>0</td>\n",
       "      <td>0</td>\n",
       "      <td>3</td>\n",
       "      <td>51</td>\n",
       "      <td>Once a month</td>\n",
       "      <td>1</td>\n",
       "      <td>3</td>\n",
       "      <td>2</td>\n",
       "    </tr>\n",
       "    <tr>\n",
       "      <th>16</th>\n",
       "      <td>1</td>\n",
       "      <td>1</td>\n",
       "      <td>0</td>\n",
       "      <td>1</td>\n",
       "      <td>1</td>\n",
       "      <td>1</td>\n",
       "      <td>1</td>\n",
       "      <td>1</td>\n",
       "      <td>0</td>\n",
       "      <td>0</td>\n",
       "      <td>0</td>\n",
       "      <td>0</td>\n",
       "      <td>34</td>\n",
       "      <td>Once a month</td>\n",
       "      <td>0</td>\n",
       "      <td>3</td>\n",
       "      <td>2</td>\n",
       "    </tr>\n",
       "    <tr>\n",
       "      <th>...</th>\n",
       "      <td>...</td>\n",
       "      <td>...</td>\n",
       "      <td>...</td>\n",
       "      <td>...</td>\n",
       "      <td>...</td>\n",
       "      <td>...</td>\n",
       "      <td>...</td>\n",
       "      <td>...</td>\n",
       "      <td>...</td>\n",
       "      <td>...</td>\n",
       "      <td>...</td>\n",
       "      <td>...</td>\n",
       "      <td>...</td>\n",
       "      <td>...</td>\n",
       "      <td>...</td>\n",
       "      <td>...</td>\n",
       "      <td>...</td>\n",
       "    </tr>\n",
       "    <tr>\n",
       "      <th>1442</th>\n",
       "      <td>1</td>\n",
       "      <td>1</td>\n",
       "      <td>0</td>\n",
       "      <td>0</td>\n",
       "      <td>1</td>\n",
       "      <td>1</td>\n",
       "      <td>1</td>\n",
       "      <td>1</td>\n",
       "      <td>0</td>\n",
       "      <td>0</td>\n",
       "      <td>0</td>\n",
       "      <td>4</td>\n",
       "      <td>31</td>\n",
       "      <td>Once a month</td>\n",
       "      <td>1</td>\n",
       "      <td>3</td>\n",
       "      <td>2</td>\n",
       "    </tr>\n",
       "    <tr>\n",
       "      <th>1443</th>\n",
       "      <td>1</td>\n",
       "      <td>1</td>\n",
       "      <td>0</td>\n",
       "      <td>1</td>\n",
       "      <td>0</td>\n",
       "      <td>1</td>\n",
       "      <td>1</td>\n",
       "      <td>1</td>\n",
       "      <td>0</td>\n",
       "      <td>0</td>\n",
       "      <td>0</td>\n",
       "      <td>2</td>\n",
       "      <td>50</td>\n",
       "      <td>Once a year</td>\n",
       "      <td>0</td>\n",
       "      <td>1</td>\n",
       "      <td>2</td>\n",
       "    </tr>\n",
       "    <tr>\n",
       "      <th>1446</th>\n",
       "      <td>1</td>\n",
       "      <td>1</td>\n",
       "      <td>0</td>\n",
       "      <td>1</td>\n",
       "      <td>1</td>\n",
       "      <td>1</td>\n",
       "      <td>1</td>\n",
       "      <td>1</td>\n",
       "      <td>0</td>\n",
       "      <td>1</td>\n",
       "      <td>0</td>\n",
       "      <td>1</td>\n",
       "      <td>52</td>\n",
       "      <td>Every three months</td>\n",
       "      <td>0</td>\n",
       "      <td>2</td>\n",
       "      <td>2</td>\n",
       "    </tr>\n",
       "    <tr>\n",
       "      <th>1449</th>\n",
       "      <td>1</td>\n",
       "      <td>1</td>\n",
       "      <td>0</td>\n",
       "      <td>1</td>\n",
       "      <td>0</td>\n",
       "      <td>0</td>\n",
       "      <td>1</td>\n",
       "      <td>1</td>\n",
       "      <td>0</td>\n",
       "      <td>1</td>\n",
       "      <td>0</td>\n",
       "      <td>2</td>\n",
       "      <td>36</td>\n",
       "      <td>Once a week</td>\n",
       "      <td>0</td>\n",
       "      <td>4</td>\n",
       "      <td>2</td>\n",
       "    </tr>\n",
       "    <tr>\n",
       "      <th>1451</th>\n",
       "      <td>1</td>\n",
       "      <td>1</td>\n",
       "      <td>0</td>\n",
       "      <td>0</td>\n",
       "      <td>0</td>\n",
       "      <td>1</td>\n",
       "      <td>1</td>\n",
       "      <td>1</td>\n",
       "      <td>0</td>\n",
       "      <td>1</td>\n",
       "      <td>0</td>\n",
       "      <td>4</td>\n",
       "      <td>41</td>\n",
       "      <td>Every three months</td>\n",
       "      <td>1</td>\n",
       "      <td>2</td>\n",
       "      <td>2</td>\n",
       "    </tr>\n",
       "  </tbody>\n",
       "</table>\n",
       "<p>515 rows × 17 columns</p>\n",
       "</div>"
      ],
      "text/plain": [
       "      yummy  convenient  spicy  fattening  greasy  fast  cheap  tasty  \\\n",
       "3         1           1      0          1       1     1      1      1   \n",
       "5         1           1      0          1       0     1      1      1   \n",
       "7         1           1      0          1       1     1      1      1   \n",
       "15        1           1      0          1       0     1      1      1   \n",
       "16        1           1      0          1       1     1      1      1   \n",
       "...     ...         ...    ...        ...     ...   ...    ...    ...   \n",
       "1442      1           1      0          0       1     1      1      1   \n",
       "1443      1           1      0          1       0     1      1      1   \n",
       "1446      1           1      0          1       1     1      1      1   \n",
       "1449      1           1      0          1       0     0      1      1   \n",
       "1451      1           1      0          0       0     1      1      1   \n",
       "\n",
       "      expensive  healthy  disgusting  Like  Age      VisitFrequency  Gender  \\\n",
       "3             0        0           1     4   69         Once a week       0   \n",
       "5             0        0           0     2   55  Every three months       1   \n",
       "7             0        0           0     5   23         Once a week       0   \n",
       "15            0        0           0     3   51        Once a month       1   \n",
       "16            0        0           0     0   34        Once a month       0   \n",
       "...         ...      ...         ...   ...  ...                 ...     ...   \n",
       "1442          0        0           0     4   31        Once a month       1   \n",
       "1443          0        0           0     2   50         Once a year       0   \n",
       "1446          0        1           0     1   52  Every three months       0   \n",
       "1449          0        1           0     2   36         Once a week       0   \n",
       "1451          0        1           0     4   41  Every three months       1   \n",
       "\n",
       "      VisitFrequencynum  cluster_num  \n",
       "3                     4            2  \n",
       "5                     2            2  \n",
       "7                     4            2  \n",
       "15                    3            2  \n",
       "16                    3            2  \n",
       "...                 ...          ...  \n",
       "1442                  3            2  \n",
       "1443                  1            2  \n",
       "1446                  2            2  \n",
       "1449                  4            2  \n",
       "1451                  2            2  \n",
       "\n",
       "[515 rows x 17 columns]"
      ]
     },
     "execution_count": 27,
     "metadata": {},
     "output_type": "execute_result"
    }
   ],
   "source": [
    "dff = df.loc[df['cluster_num']==2]\n",
    "dff"
   ]
  },
  {
   "cell_type": "code",
   "execution_count": 28,
   "id": "07a9a918",
   "metadata": {
    "execution": {
     "iopub.execute_input": "2022-05-08T04:48:10.164062Z",
     "iopub.status.busy": "2022-05-08T04:48:10.163483Z",
     "iopub.status.idle": "2022-05-08T04:48:10.225116Z",
     "shell.execute_reply": "2022-05-08T04:48:10.224210Z"
    },
    "papermill": {
     "duration": 0.143293,
     "end_time": "2022-05-08T04:48:10.227301",
     "exception": false,
     "start_time": "2022-05-08T04:48:10.084008",
     "status": "completed"
    },
    "tags": []
   },
   "outputs": [
    {
     "data": {
      "text/html": [
       "<div>\n",
       "<style scoped>\n",
       "    .dataframe tbody tr th:only-of-type {\n",
       "        vertical-align: middle;\n",
       "    }\n",
       "\n",
       "    .dataframe tbody tr th {\n",
       "        vertical-align: top;\n",
       "    }\n",
       "\n",
       "    .dataframe thead th {\n",
       "        text-align: right;\n",
       "    }\n",
       "</style>\n",
       "<table border=\"1\" class=\"dataframe\">\n",
       "  <thead>\n",
       "    <tr style=\"text-align: right;\">\n",
       "      <th></th>\n",
       "      <th>yummy</th>\n",
       "      <th>convenient</th>\n",
       "      <th>spicy</th>\n",
       "      <th>fattening</th>\n",
       "      <th>greasy</th>\n",
       "      <th>fast</th>\n",
       "      <th>cheap</th>\n",
       "      <th>tasty</th>\n",
       "      <th>expensive</th>\n",
       "      <th>healthy</th>\n",
       "      <th>disgusting</th>\n",
       "      <th>Like</th>\n",
       "      <th>Age</th>\n",
       "      <th>Gender</th>\n",
       "      <th>VisitFrequencynum</th>\n",
       "      <th>cluster_num</th>\n",
       "    </tr>\n",
       "  </thead>\n",
       "  <tbody>\n",
       "    <tr>\n",
       "      <th>count</th>\n",
       "      <td>515.000000</td>\n",
       "      <td>515.000000</td>\n",
       "      <td>515.000000</td>\n",
       "      <td>515.000000</td>\n",
       "      <td>515.000000</td>\n",
       "      <td>515.000000</td>\n",
       "      <td>515.000000</td>\n",
       "      <td>515.000000</td>\n",
       "      <td>515.000000</td>\n",
       "      <td>515.000000</td>\n",
       "      <td>515.000000</td>\n",
       "      <td>515.000000</td>\n",
       "      <td>515.000000</td>\n",
       "      <td>515.000000</td>\n",
       "      <td>515.000000</td>\n",
       "      <td>515.0</td>\n",
       "    </tr>\n",
       "    <tr>\n",
       "      <th>mean</th>\n",
       "      <td>0.980583</td>\n",
       "      <td>0.980583</td>\n",
       "      <td>0.083495</td>\n",
       "      <td>0.786408</td>\n",
       "      <td>0.363107</td>\n",
       "      <td>0.961165</td>\n",
       "      <td>0.939806</td>\n",
       "      <td>0.978641</td>\n",
       "      <td>0.013592</td>\n",
       "      <td>0.349515</td>\n",
       "      <td>0.046602</td>\n",
       "      <td>3.044660</td>\n",
       "      <td>42.469903</td>\n",
       "      <td>0.374757</td>\n",
       "      <td>3.021359</td>\n",
       "      <td>2.0</td>\n",
       "    </tr>\n",
       "    <tr>\n",
       "      <th>std</th>\n",
       "      <td>0.138121</td>\n",
       "      <td>0.138121</td>\n",
       "      <td>0.276898</td>\n",
       "      <td>0.410241</td>\n",
       "      <td>0.481363</td>\n",
       "      <td>0.193389</td>\n",
       "      <td>0.238078</td>\n",
       "      <td>0.144719</td>\n",
       "      <td>0.115903</td>\n",
       "      <td>0.477280</td>\n",
       "      <td>0.210990</td>\n",
       "      <td>1.457553</td>\n",
       "      <td>14.959627</td>\n",
       "      <td>0.484531</td>\n",
       "      <td>1.012341</td>\n",
       "      <td>0.0</td>\n",
       "    </tr>\n",
       "    <tr>\n",
       "      <th>min</th>\n",
       "      <td>0.000000</td>\n",
       "      <td>0.000000</td>\n",
       "      <td>0.000000</td>\n",
       "      <td>0.000000</td>\n",
       "      <td>0.000000</td>\n",
       "      <td>0.000000</td>\n",
       "      <td>0.000000</td>\n",
       "      <td>0.000000</td>\n",
       "      <td>0.000000</td>\n",
       "      <td>0.000000</td>\n",
       "      <td>0.000000</td>\n",
       "      <td>0.000000</td>\n",
       "      <td>18.000000</td>\n",
       "      <td>0.000000</td>\n",
       "      <td>0.000000</td>\n",
       "      <td>2.0</td>\n",
       "    </tr>\n",
       "    <tr>\n",
       "      <th>25%</th>\n",
       "      <td>1.000000</td>\n",
       "      <td>1.000000</td>\n",
       "      <td>0.000000</td>\n",
       "      <td>1.000000</td>\n",
       "      <td>0.000000</td>\n",
       "      <td>1.000000</td>\n",
       "      <td>1.000000</td>\n",
       "      <td>1.000000</td>\n",
       "      <td>0.000000</td>\n",
       "      <td>0.000000</td>\n",
       "      <td>0.000000</td>\n",
       "      <td>2.000000</td>\n",
       "      <td>30.000000</td>\n",
       "      <td>0.000000</td>\n",
       "      <td>2.000000</td>\n",
       "      <td>2.0</td>\n",
       "    </tr>\n",
       "    <tr>\n",
       "      <th>50%</th>\n",
       "      <td>1.000000</td>\n",
       "      <td>1.000000</td>\n",
       "      <td>0.000000</td>\n",
       "      <td>1.000000</td>\n",
       "      <td>0.000000</td>\n",
       "      <td>1.000000</td>\n",
       "      <td>1.000000</td>\n",
       "      <td>1.000000</td>\n",
       "      <td>0.000000</td>\n",
       "      <td>0.000000</td>\n",
       "      <td>0.000000</td>\n",
       "      <td>3.000000</td>\n",
       "      <td>41.000000</td>\n",
       "      <td>0.000000</td>\n",
       "      <td>3.000000</td>\n",
       "      <td>2.0</td>\n",
       "    </tr>\n",
       "    <tr>\n",
       "      <th>75%</th>\n",
       "      <td>1.000000</td>\n",
       "      <td>1.000000</td>\n",
       "      <td>0.000000</td>\n",
       "      <td>1.000000</td>\n",
       "      <td>1.000000</td>\n",
       "      <td>1.000000</td>\n",
       "      <td>1.000000</td>\n",
       "      <td>1.000000</td>\n",
       "      <td>0.000000</td>\n",
       "      <td>1.000000</td>\n",
       "      <td>0.000000</td>\n",
       "      <td>4.000000</td>\n",
       "      <td>56.000000</td>\n",
       "      <td>1.000000</td>\n",
       "      <td>4.000000</td>\n",
       "      <td>2.0</td>\n",
       "    </tr>\n",
       "    <tr>\n",
       "      <th>max</th>\n",
       "      <td>1.000000</td>\n",
       "      <td>1.000000</td>\n",
       "      <td>1.000000</td>\n",
       "      <td>1.000000</td>\n",
       "      <td>1.000000</td>\n",
       "      <td>1.000000</td>\n",
       "      <td>1.000000</td>\n",
       "      <td>1.000000</td>\n",
       "      <td>1.000000</td>\n",
       "      <td>1.000000</td>\n",
       "      <td>1.000000</td>\n",
       "      <td>5.000000</td>\n",
       "      <td>71.000000</td>\n",
       "      <td>1.000000</td>\n",
       "      <td>5.000000</td>\n",
       "      <td>2.0</td>\n",
       "    </tr>\n",
       "  </tbody>\n",
       "</table>\n",
       "</div>"
      ],
      "text/plain": [
       "            yummy  convenient       spicy   fattening      greasy        fast  \\\n",
       "count  515.000000  515.000000  515.000000  515.000000  515.000000  515.000000   \n",
       "mean     0.980583    0.980583    0.083495    0.786408    0.363107    0.961165   \n",
       "std      0.138121    0.138121    0.276898    0.410241    0.481363    0.193389   \n",
       "min      0.000000    0.000000    0.000000    0.000000    0.000000    0.000000   \n",
       "25%      1.000000    1.000000    0.000000    1.000000    0.000000    1.000000   \n",
       "50%      1.000000    1.000000    0.000000    1.000000    0.000000    1.000000   \n",
       "75%      1.000000    1.000000    0.000000    1.000000    1.000000    1.000000   \n",
       "max      1.000000    1.000000    1.000000    1.000000    1.000000    1.000000   \n",
       "\n",
       "            cheap       tasty   expensive     healthy  disgusting        Like  \\\n",
       "count  515.000000  515.000000  515.000000  515.000000  515.000000  515.000000   \n",
       "mean     0.939806    0.978641    0.013592    0.349515    0.046602    3.044660   \n",
       "std      0.238078    0.144719    0.115903    0.477280    0.210990    1.457553   \n",
       "min      0.000000    0.000000    0.000000    0.000000    0.000000    0.000000   \n",
       "25%      1.000000    1.000000    0.000000    0.000000    0.000000    2.000000   \n",
       "50%      1.000000    1.000000    0.000000    0.000000    0.000000    3.000000   \n",
       "75%      1.000000    1.000000    0.000000    1.000000    0.000000    4.000000   \n",
       "max      1.000000    1.000000    1.000000    1.000000    1.000000    5.000000   \n",
       "\n",
       "              Age      Gender  VisitFrequencynum  cluster_num  \n",
       "count  515.000000  515.000000         515.000000        515.0  \n",
       "mean    42.469903    0.374757           3.021359          2.0  \n",
       "std     14.959627    0.484531           1.012341          0.0  \n",
       "min     18.000000    0.000000           0.000000          2.0  \n",
       "25%     30.000000    0.000000           2.000000          2.0  \n",
       "50%     41.000000    0.000000           3.000000          2.0  \n",
       "75%     56.000000    1.000000           4.000000          2.0  \n",
       "max     71.000000    1.000000           5.000000          2.0  "
      ]
     },
     "execution_count": 28,
     "metadata": {},
     "output_type": "execute_result"
    }
   ],
   "source": [
    "dff.describe()"
   ]
  },
  {
   "cell_type": "code",
   "execution_count": 29,
   "id": "66907f14",
   "metadata": {
    "execution": {
     "iopub.execute_input": "2022-05-08T04:48:10.385823Z",
     "iopub.status.busy": "2022-05-08T04:48:10.385147Z",
     "iopub.status.idle": "2022-05-08T04:48:10.839134Z",
     "shell.execute_reply": "2022-05-08T04:48:10.838143Z"
    },
    "papermill": {
     "duration": 0.537298,
     "end_time": "2022-05-08T04:48:10.841398",
     "exception": false,
     "start_time": "2022-05-08T04:48:10.304100",
     "status": "completed"
    },
    "tags": []
   },
   "outputs": [
    {
     "data": {
      "text/plain": [
       "<AxesSubplot:>"
      ]
     },
     "execution_count": 29,
     "metadata": {},
     "output_type": "execute_result"
    },
    {
     "data": {
      "image/png": "[encoded data removed]",
      "text/plain": [
       "<Figure size 2160x720 with 1 Axes>"
      ]
     },
     "metadata": {
      "needs_background": "light"
     },
     "output_type": "display_data"
    }
   ],
   "source": [
    "dff2 = dff.drop(['Age','Like','VisitFrequencynum'], axis = 1)\n",
    "plt.figure(figsize = (30,10))\n",
    "dff2.boxplot()"
   ]
  },
  {
   "cell_type": "code",
   "execution_count": 30,
   "id": "9a63deb1",
   "metadata": {
    "execution": {
     "iopub.execute_input": "2022-05-08T04:48:11.004084Z",
     "iopub.status.busy": "2022-05-08T04:48:11.003147Z",
     "iopub.status.idle": "2022-05-08T04:48:12.720290Z",
     "shell.execute_reply": "2022-05-08T04:48:12.719260Z"
    },
    "papermill": {
     "duration": 1.800794,
     "end_time": "2022-05-08T04:48:12.722741",
     "exception": false,
     "start_time": "2022-05-08T04:48:10.921947",
     "status": "completed"
    },
    "tags": []
   },
   "outputs": [
    {
     "data": {
      "text/plain": [
       "array([[<AxesSubplot:title={'center':'yummy'}>,\n",
       "        <AxesSubplot:title={'center':'convenient'}>,\n",
       "        <AxesSubplot:title={'center':'spicy'}>,\n",
       "        <AxesSubplot:title={'center':'fattening'}>],\n",
       "       [<AxesSubplot:title={'center':'greasy'}>,\n",
       "        <AxesSubplot:title={'center':'fast'}>,\n",
       "        <AxesSubplot:title={'center':'cheap'}>,\n",
       "        <AxesSubplot:title={'center':'tasty'}>],\n",
       "       [<AxesSubplot:title={'center':'expensive'}>,\n",
       "        <AxesSubplot:title={'center':'healthy'}>,\n",
       "        <AxesSubplot:title={'center':'disgusting'}>,\n",
       "        <AxesSubplot:title={'center':'Gender'}>],\n",
       "       [<AxesSubplot:title={'center':'cluster_num'}>, <AxesSubplot:>,\n",
       "        <AxesSubplot:>, <AxesSubplot:>]], dtype=object)"
      ]
     },
     "execution_count": 30,
     "metadata": {},
     "output_type": "execute_result"
    },
    {
     "data": {
      "image/png": "[encoded data removed]",
      "text/plain": [
       "<Figure size 432x288 with 16 Axes>"
      ]
     },
     "metadata": {
      "needs_background": "light"
     },
     "output_type": "display_data"
    }
   ],
   "source": [
    "dff2.hist()"
   ]
  },
  {
   "cell_type": "raw",
   "id": "ab704cd7",
   "metadata": {
    "papermill": {
     "duration": 0.082401,
     "end_time": "2022-05-08T04:48:12.885890",
     "exception": false,
     "start_time": "2022-05-08T04:48:12.803489",
     "status": "completed"
    },
    "tags": []
   },
   "source": [
    "spec_df.corr()\n",
    "#Correlation Matrix\n",
    "\n",
    "plt.figure(figsize=(15,15))\n",
    "sns.heatmap(spec_df.corr(), annot=True)\n",
    "plt.show()"
   ]
  }
 ],
 "metadata": {
  "kernelspec": {
   "display_name": "Python 3",
   "language": "python",
   "name": "python3"
  },
  "language_info": {
   "codemirror_mode": {
    "name": "ipython",
    "version": 3
   },
   "file_extension": ".py",
   "mimetype": "text/x-python",
   "name": "python",
   "nbconvert_exporter": "python",
   "pygments_lexer": "ipython3",
   "version": "3.7.12"
  },
  "papermill": {
   "default_parameters": {},
   "duration": 45.196331,
   "end_time": "2022-05-08T04:48:14.193128",
   "environment_variables": {},
   "exception": null,
   "input_path": "__notebook__.ipynb",
   "output_path": "__notebook__.ipynb",
   "parameters": {},
   "start_time": "2022-05-08T04:47:28.996797",
   "version": "2.3.4"
  }
 },
 "nbformat": 4,
 "nbformat_minor": 5
}
